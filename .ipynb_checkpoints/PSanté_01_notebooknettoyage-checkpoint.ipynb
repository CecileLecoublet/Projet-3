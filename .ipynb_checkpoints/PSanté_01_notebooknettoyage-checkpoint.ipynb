{
 "cells": [
  {
   "cell_type": "markdown",
   "metadata": {},
   "source": [
    "# Projet 3 : Concevez une application au service de la santé publique"
   ]
  },
  {
   "cell_type": "markdown",
   "metadata": {},
   "source": [
    "Nettoyage de données"
   ]
  },
  {
   "cell_type": "code",
   "execution_count": 1,
   "metadata": {},
   "outputs": [],
   "source": [
    "import pandas as pd\n",
    "import numpy as np\n",
    "import seaborn as sns\n",
    "import matplotlib.pyplot as plt\n",
    "\n",
    "#Analyse\n",
    "from sklearn.impute import KNNImputer\n",
    "from sklearn.decomposition import PCA\n",
    "from sklearn.preprocessing import StandardScaler\n",
    "from sklearn.impute import SimpleImputer\n",
    "from sklearn.experimental import enable_iterative_imputer\n",
    "from sklearn.impute import IterativeImputer\n",
    "from sklearn.neighbors import KNeighborsClassifier\n",
    "from sklearn import preprocessing\n",
    "from sklearn.model_selection import train_test_split\n",
    "from sklearn.metrics import fbeta_score, make_scorer\n",
    "from sklearn.metrics import f1_score\n",
    "from sklearn.metrics import accuracy_score"
   ]
  },
  {
   "cell_type": "markdown",
   "metadata": {},
   "source": [
    "## 1. Ouverture du fichier"
   ]
  },
  {
   "cell_type": "code",
   "execution_count": 2,
   "metadata": {},
   "outputs": [],
   "source": [
    "data = pd.read_csv('fr.openfoodfacts.org.products.csv',sep='\\t',encoding='utf-8', low_memory=False)"
   ]
  },
  {
   "cell_type": "code",
   "execution_count": 3,
   "metadata": {},
   "outputs": [],
   "source": [
    "data_df = pd.DataFrame(data)"
   ]
  },
  {
   "cell_type": "markdown",
   "metadata": {},
   "source": [
    "## 2. Visualisation du DataFrame"
   ]
  },
  {
   "cell_type": "code",
   "execution_count": 4,
   "metadata": {},
   "outputs": [
    {
     "data": {
      "text/html": [
       "<div>\n",
       "<style scoped>\n",
       "    .dataframe tbody tr th:only-of-type {\n",
       "        vertical-align: middle;\n",
       "    }\n",
       "\n",
       "    .dataframe tbody tr th {\n",
       "        vertical-align: top;\n",
       "    }\n",
       "\n",
       "    .dataframe thead th {\n",
       "        text-align: right;\n",
       "    }\n",
       "</style>\n",
       "<table border=\"1\" class=\"dataframe\">\n",
       "  <thead>\n",
       "    <tr style=\"text-align: right;\">\n",
       "      <th></th>\n",
       "      <th>code</th>\n",
       "      <th>url</th>\n",
       "      <th>creator</th>\n",
       "      <th>created_t</th>\n",
       "      <th>created_datetime</th>\n",
       "      <th>last_modified_t</th>\n",
       "      <th>last_modified_datetime</th>\n",
       "      <th>product_name</th>\n",
       "      <th>generic_name</th>\n",
       "      <th>quantity</th>\n",
       "      <th>...</th>\n",
       "      <th>ph_100g</th>\n",
       "      <th>fruits-vegetables-nuts_100g</th>\n",
       "      <th>collagen-meat-protein-ratio_100g</th>\n",
       "      <th>cocoa_100g</th>\n",
       "      <th>chlorophyl_100g</th>\n",
       "      <th>carbon-footprint_100g</th>\n",
       "      <th>nutrition-score-fr_100g</th>\n",
       "      <th>nutrition-score-uk_100g</th>\n",
       "      <th>glycemic-index_100g</th>\n",
       "      <th>water-hardness_100g</th>\n",
       "    </tr>\n",
       "  </thead>\n",
       "  <tbody>\n",
       "    <tr>\n",
       "      <th>0</th>\n",
       "      <td>0000000003087</td>\n",
       "      <td>http://world-fr.openfoodfacts.org/produit/0000...</td>\n",
       "      <td>openfoodfacts-contributors</td>\n",
       "      <td>1474103866</td>\n",
       "      <td>2016-09-17T09:17:46Z</td>\n",
       "      <td>1474103893</td>\n",
       "      <td>2016-09-17T09:18:13Z</td>\n",
       "      <td>Farine de blé noir</td>\n",
       "      <td>NaN</td>\n",
       "      <td>1kg</td>\n",
       "      <td>...</td>\n",
       "      <td>NaN</td>\n",
       "      <td>NaN</td>\n",
       "      <td>NaN</td>\n",
       "      <td>NaN</td>\n",
       "      <td>NaN</td>\n",
       "      <td>NaN</td>\n",
       "      <td>NaN</td>\n",
       "      <td>NaN</td>\n",
       "      <td>NaN</td>\n",
       "      <td>NaN</td>\n",
       "    </tr>\n",
       "    <tr>\n",
       "      <th>1</th>\n",
       "      <td>0000000004530</td>\n",
       "      <td>http://world-fr.openfoodfacts.org/produit/0000...</td>\n",
       "      <td>usda-ndb-import</td>\n",
       "      <td>1489069957</td>\n",
       "      <td>2017-03-09T14:32:37Z</td>\n",
       "      <td>1489069957</td>\n",
       "      <td>2017-03-09T14:32:37Z</td>\n",
       "      <td>Banana Chips Sweetened (Whole)</td>\n",
       "      <td>NaN</td>\n",
       "      <td>NaN</td>\n",
       "      <td>...</td>\n",
       "      <td>NaN</td>\n",
       "      <td>NaN</td>\n",
       "      <td>NaN</td>\n",
       "      <td>NaN</td>\n",
       "      <td>NaN</td>\n",
       "      <td>NaN</td>\n",
       "      <td>14.0</td>\n",
       "      <td>14.0</td>\n",
       "      <td>NaN</td>\n",
       "      <td>NaN</td>\n",
       "    </tr>\n",
       "    <tr>\n",
       "      <th>2</th>\n",
       "      <td>0000000004559</td>\n",
       "      <td>http://world-fr.openfoodfacts.org/produit/0000...</td>\n",
       "      <td>usda-ndb-import</td>\n",
       "      <td>1489069957</td>\n",
       "      <td>2017-03-09T14:32:37Z</td>\n",
       "      <td>1489069957</td>\n",
       "      <td>2017-03-09T14:32:37Z</td>\n",
       "      <td>Peanuts</td>\n",
       "      <td>NaN</td>\n",
       "      <td>NaN</td>\n",
       "      <td>...</td>\n",
       "      <td>NaN</td>\n",
       "      <td>NaN</td>\n",
       "      <td>NaN</td>\n",
       "      <td>NaN</td>\n",
       "      <td>NaN</td>\n",
       "      <td>NaN</td>\n",
       "      <td>0.0</td>\n",
       "      <td>0.0</td>\n",
       "      <td>NaN</td>\n",
       "      <td>NaN</td>\n",
       "    </tr>\n",
       "    <tr>\n",
       "      <th>3</th>\n",
       "      <td>0000000016087</td>\n",
       "      <td>http://world-fr.openfoodfacts.org/produit/0000...</td>\n",
       "      <td>usda-ndb-import</td>\n",
       "      <td>1489055731</td>\n",
       "      <td>2017-03-09T10:35:31Z</td>\n",
       "      <td>1489055731</td>\n",
       "      <td>2017-03-09T10:35:31Z</td>\n",
       "      <td>Organic Salted Nut Mix</td>\n",
       "      <td>NaN</td>\n",
       "      <td>NaN</td>\n",
       "      <td>...</td>\n",
       "      <td>NaN</td>\n",
       "      <td>NaN</td>\n",
       "      <td>NaN</td>\n",
       "      <td>NaN</td>\n",
       "      <td>NaN</td>\n",
       "      <td>NaN</td>\n",
       "      <td>12.0</td>\n",
       "      <td>12.0</td>\n",
       "      <td>NaN</td>\n",
       "      <td>NaN</td>\n",
       "    </tr>\n",
       "    <tr>\n",
       "      <th>4</th>\n",
       "      <td>0000000016094</td>\n",
       "      <td>http://world-fr.openfoodfacts.org/produit/0000...</td>\n",
       "      <td>usda-ndb-import</td>\n",
       "      <td>1489055653</td>\n",
       "      <td>2017-03-09T10:34:13Z</td>\n",
       "      <td>1489055653</td>\n",
       "      <td>2017-03-09T10:34:13Z</td>\n",
       "      <td>Organic Polenta</td>\n",
       "      <td>NaN</td>\n",
       "      <td>NaN</td>\n",
       "      <td>...</td>\n",
       "      <td>NaN</td>\n",
       "      <td>NaN</td>\n",
       "      <td>NaN</td>\n",
       "      <td>NaN</td>\n",
       "      <td>NaN</td>\n",
       "      <td>NaN</td>\n",
       "      <td>NaN</td>\n",
       "      <td>NaN</td>\n",
       "      <td>NaN</td>\n",
       "      <td>NaN</td>\n",
       "    </tr>\n",
       "  </tbody>\n",
       "</table>\n",
       "<p>5 rows × 162 columns</p>\n",
       "</div>"
      ],
      "text/plain": [
       "            code                                                url  \\\n",
       "0  0000000003087  http://world-fr.openfoodfacts.org/produit/0000...   \n",
       "1  0000000004530  http://world-fr.openfoodfacts.org/produit/0000...   \n",
       "2  0000000004559  http://world-fr.openfoodfacts.org/produit/0000...   \n",
       "3  0000000016087  http://world-fr.openfoodfacts.org/produit/0000...   \n",
       "4  0000000016094  http://world-fr.openfoodfacts.org/produit/0000...   \n",
       "\n",
       "                      creator   created_t      created_datetime  \\\n",
       "0  openfoodfacts-contributors  1474103866  2016-09-17T09:17:46Z   \n",
       "1             usda-ndb-import  1489069957  2017-03-09T14:32:37Z   \n",
       "2             usda-ndb-import  1489069957  2017-03-09T14:32:37Z   \n",
       "3             usda-ndb-import  1489055731  2017-03-09T10:35:31Z   \n",
       "4             usda-ndb-import  1489055653  2017-03-09T10:34:13Z   \n",
       "\n",
       "  last_modified_t last_modified_datetime                    product_name  \\\n",
       "0      1474103893   2016-09-17T09:18:13Z              Farine de blé noir   \n",
       "1      1489069957   2017-03-09T14:32:37Z  Banana Chips Sweetened (Whole)   \n",
       "2      1489069957   2017-03-09T14:32:37Z                         Peanuts   \n",
       "3      1489055731   2017-03-09T10:35:31Z          Organic Salted Nut Mix   \n",
       "4      1489055653   2017-03-09T10:34:13Z                 Organic Polenta   \n",
       "\n",
       "  generic_name quantity  ... ph_100g fruits-vegetables-nuts_100g  \\\n",
       "0          NaN      1kg  ...     NaN                         NaN   \n",
       "1          NaN      NaN  ...     NaN                         NaN   \n",
       "2          NaN      NaN  ...     NaN                         NaN   \n",
       "3          NaN      NaN  ...     NaN                         NaN   \n",
       "4          NaN      NaN  ...     NaN                         NaN   \n",
       "\n",
       "  collagen-meat-protein-ratio_100g cocoa_100g chlorophyl_100g  \\\n",
       "0                              NaN        NaN             NaN   \n",
       "1                              NaN        NaN             NaN   \n",
       "2                              NaN        NaN             NaN   \n",
       "3                              NaN        NaN             NaN   \n",
       "4                              NaN        NaN             NaN   \n",
       "\n",
       "  carbon-footprint_100g nutrition-score-fr_100g nutrition-score-uk_100g  \\\n",
       "0                   NaN                     NaN                     NaN   \n",
       "1                   NaN                    14.0                    14.0   \n",
       "2                   NaN                     0.0                     0.0   \n",
       "3                   NaN                    12.0                    12.0   \n",
       "4                   NaN                     NaN                     NaN   \n",
       "\n",
       "  glycemic-index_100g water-hardness_100g  \n",
       "0                 NaN                 NaN  \n",
       "1                 NaN                 NaN  \n",
       "2                 NaN                 NaN  \n",
       "3                 NaN                 NaN  \n",
       "4                 NaN                 NaN  \n",
       "\n",
       "[5 rows x 162 columns]"
      ]
     },
     "execution_count": 4,
     "metadata": {},
     "output_type": "execute_result"
    }
   ],
   "source": [
    "data_df.head(5)"
   ]
  },
  {
   "cell_type": "markdown",
   "metadata": {},
   "source": [
    "## 3. Description du DataFrame"
   ]
  },
  {
   "cell_type": "markdown",
   "metadata": {},
   "source": [
    "### 1. Information du DataFrame"
   ]
  },
  {
   "cell_type": "code",
   "execution_count": 5,
   "metadata": {},
   "outputs": [
    {
     "name": "stdout",
     "output_type": "stream",
     "text": [
      "<class 'pandas.core.frame.DataFrame'>\n",
      "RangeIndex: 320772 entries, 0 to 320771\n",
      "Columns: 162 entries, code to water-hardness_100g\n",
      "dtypes: float64(106), object(56)\n",
      "memory usage: 396.5+ MB\n",
      "None\n"
     ]
    }
   ],
   "source": [
    "print(data_df.info())"
   ]
  },
  {
   "cell_type": "markdown",
   "metadata": {},
   "source": [
    "### 2. Taille du DataFrame"
   ]
  },
  {
   "cell_type": "code",
   "execution_count": 6,
   "metadata": {},
   "outputs": [
    {
     "data": {
      "text/plain": [
       "(320772, 162)"
      ]
     },
     "execution_count": 6,
     "metadata": {},
     "output_type": "execute_result"
    }
   ],
   "source": [
    "data_df.shape"
   ]
  },
  {
   "cell_type": "markdown",
   "metadata": {},
   "source": [
    "### 3. Noms des colonnes"
   ]
  },
  {
   "cell_type": "code",
   "execution_count": 7,
   "metadata": {},
   "outputs": [
    {
     "data": {
      "text/plain": [
       "['code',\n",
       " 'url',\n",
       " 'creator',\n",
       " 'created_t',\n",
       " 'created_datetime',\n",
       " 'last_modified_t',\n",
       " 'last_modified_datetime',\n",
       " 'product_name',\n",
       " 'generic_name',\n",
       " 'quantity',\n",
       " 'packaging',\n",
       " 'packaging_tags',\n",
       " 'brands',\n",
       " 'brands_tags',\n",
       " 'categories',\n",
       " 'categories_tags',\n",
       " 'categories_fr',\n",
       " 'origins',\n",
       " 'origins_tags',\n",
       " 'manufacturing_places',\n",
       " 'manufacturing_places_tags',\n",
       " 'labels',\n",
       " 'labels_tags',\n",
       " 'labels_fr',\n",
       " 'emb_codes',\n",
       " 'emb_codes_tags',\n",
       " 'first_packaging_code_geo',\n",
       " 'cities',\n",
       " 'cities_tags',\n",
       " 'purchase_places',\n",
       " 'stores',\n",
       " 'countries',\n",
       " 'countries_tags',\n",
       " 'countries_fr',\n",
       " 'ingredients_text',\n",
       " 'allergens',\n",
       " 'allergens_fr',\n",
       " 'traces',\n",
       " 'traces_tags',\n",
       " 'traces_fr',\n",
       " 'serving_size',\n",
       " 'no_nutriments',\n",
       " 'additives_n',\n",
       " 'additives',\n",
       " 'additives_tags',\n",
       " 'additives_fr',\n",
       " 'ingredients_from_palm_oil_n',\n",
       " 'ingredients_from_palm_oil',\n",
       " 'ingredients_from_palm_oil_tags',\n",
       " 'ingredients_that_may_be_from_palm_oil_n',\n",
       " 'ingredients_that_may_be_from_palm_oil',\n",
       " 'ingredients_that_may_be_from_palm_oil_tags',\n",
       " 'nutrition_grade_uk',\n",
       " 'nutrition_grade_fr',\n",
       " 'pnns_groups_1',\n",
       " 'pnns_groups_2',\n",
       " 'states',\n",
       " 'states_tags',\n",
       " 'states_fr',\n",
       " 'main_category',\n",
       " 'main_category_fr',\n",
       " 'image_url',\n",
       " 'image_small_url',\n",
       " 'energy_100g',\n",
       " 'energy-from-fat_100g',\n",
       " 'fat_100g',\n",
       " 'saturated-fat_100g',\n",
       " 'butyric-acid_100g',\n",
       " 'caproic-acid_100g',\n",
       " 'caprylic-acid_100g',\n",
       " 'capric-acid_100g',\n",
       " 'lauric-acid_100g',\n",
       " 'myristic-acid_100g',\n",
       " 'palmitic-acid_100g',\n",
       " 'stearic-acid_100g',\n",
       " 'arachidic-acid_100g',\n",
       " 'behenic-acid_100g',\n",
       " 'lignoceric-acid_100g',\n",
       " 'cerotic-acid_100g',\n",
       " 'montanic-acid_100g',\n",
       " 'melissic-acid_100g',\n",
       " 'monounsaturated-fat_100g',\n",
       " 'polyunsaturated-fat_100g',\n",
       " 'omega-3-fat_100g',\n",
       " 'alpha-linolenic-acid_100g',\n",
       " 'eicosapentaenoic-acid_100g',\n",
       " 'docosahexaenoic-acid_100g',\n",
       " 'omega-6-fat_100g',\n",
       " 'linoleic-acid_100g',\n",
       " 'arachidonic-acid_100g',\n",
       " 'gamma-linolenic-acid_100g',\n",
       " 'dihomo-gamma-linolenic-acid_100g',\n",
       " 'omega-9-fat_100g',\n",
       " 'oleic-acid_100g',\n",
       " 'elaidic-acid_100g',\n",
       " 'gondoic-acid_100g',\n",
       " 'mead-acid_100g',\n",
       " 'erucic-acid_100g',\n",
       " 'nervonic-acid_100g',\n",
       " 'trans-fat_100g',\n",
       " 'cholesterol_100g',\n",
       " 'carbohydrates_100g',\n",
       " 'sugars_100g',\n",
       " 'sucrose_100g',\n",
       " 'glucose_100g',\n",
       " 'fructose_100g',\n",
       " 'lactose_100g',\n",
       " 'maltose_100g',\n",
       " 'maltodextrins_100g',\n",
       " 'starch_100g',\n",
       " 'polyols_100g',\n",
       " 'fiber_100g',\n",
       " 'proteins_100g',\n",
       " 'casein_100g',\n",
       " 'serum-proteins_100g',\n",
       " 'nucleotides_100g',\n",
       " 'salt_100g',\n",
       " 'sodium_100g',\n",
       " 'alcohol_100g',\n",
       " 'vitamin-a_100g',\n",
       " 'beta-carotene_100g',\n",
       " 'vitamin-d_100g',\n",
       " 'vitamin-e_100g',\n",
       " 'vitamin-k_100g',\n",
       " 'vitamin-c_100g',\n",
       " 'vitamin-b1_100g',\n",
       " 'vitamin-b2_100g',\n",
       " 'vitamin-pp_100g',\n",
       " 'vitamin-b6_100g',\n",
       " 'vitamin-b9_100g',\n",
       " 'folates_100g',\n",
       " 'vitamin-b12_100g',\n",
       " 'biotin_100g',\n",
       " 'pantothenic-acid_100g',\n",
       " 'silica_100g',\n",
       " 'bicarbonate_100g',\n",
       " 'potassium_100g',\n",
       " 'chloride_100g',\n",
       " 'calcium_100g',\n",
       " 'phosphorus_100g',\n",
       " 'iron_100g',\n",
       " 'magnesium_100g',\n",
       " 'zinc_100g',\n",
       " 'copper_100g',\n",
       " 'manganese_100g',\n",
       " 'fluoride_100g',\n",
       " 'selenium_100g',\n",
       " 'chromium_100g',\n",
       " 'molybdenum_100g',\n",
       " 'iodine_100g',\n",
       " 'caffeine_100g',\n",
       " 'taurine_100g',\n",
       " 'ph_100g',\n",
       " 'fruits-vegetables-nuts_100g',\n",
       " 'collagen-meat-protein-ratio_100g',\n",
       " 'cocoa_100g',\n",
       " 'chlorophyl_100g',\n",
       " 'carbon-footprint_100g',\n",
       " 'nutrition-score-fr_100g',\n",
       " 'nutrition-score-uk_100g',\n",
       " 'glycemic-index_100g',\n",
       " 'water-hardness_100g']"
      ]
     },
     "execution_count": 7,
     "metadata": {},
     "output_type": "execute_result"
    }
   ],
   "source": [
    "data_df.columns.values.tolist()"
   ]
  },
  {
   "cell_type": "markdown",
   "metadata": {},
   "source": [
    "### 4. Statistiques du DataFrame"
   ]
  },
  {
   "cell_type": "code",
   "execution_count": 8,
   "metadata": {},
   "outputs": [
    {
     "data": {
      "text/html": [
       "<div>\n",
       "<style scoped>\n",
       "    .dataframe tbody tr th:only-of-type {\n",
       "        vertical-align: middle;\n",
       "    }\n",
       "\n",
       "    .dataframe tbody tr th {\n",
       "        vertical-align: top;\n",
       "    }\n",
       "\n",
       "    .dataframe thead th {\n",
       "        text-align: right;\n",
       "    }\n",
       "</style>\n",
       "<table border=\"1\" class=\"dataframe\">\n",
       "  <thead>\n",
       "    <tr style=\"text-align: right;\">\n",
       "      <th></th>\n",
       "      <th>no_nutriments</th>\n",
       "      <th>additives_n</th>\n",
       "      <th>ingredients_from_palm_oil_n</th>\n",
       "      <th>ingredients_from_palm_oil</th>\n",
       "      <th>ingredients_that_may_be_from_palm_oil_n</th>\n",
       "      <th>ingredients_that_may_be_from_palm_oil</th>\n",
       "      <th>nutrition_grade_uk</th>\n",
       "      <th>energy_100g</th>\n",
       "      <th>energy-from-fat_100g</th>\n",
       "      <th>fat_100g</th>\n",
       "      <th>...</th>\n",
       "      <th>ph_100g</th>\n",
       "      <th>fruits-vegetables-nuts_100g</th>\n",
       "      <th>collagen-meat-protein-ratio_100g</th>\n",
       "      <th>cocoa_100g</th>\n",
       "      <th>chlorophyl_100g</th>\n",
       "      <th>carbon-footprint_100g</th>\n",
       "      <th>nutrition-score-fr_100g</th>\n",
       "      <th>nutrition-score-uk_100g</th>\n",
       "      <th>glycemic-index_100g</th>\n",
       "      <th>water-hardness_100g</th>\n",
       "    </tr>\n",
       "  </thead>\n",
       "  <tbody>\n",
       "    <tr>\n",
       "      <th>count</th>\n",
       "      <td>0.0</td>\n",
       "      <td>248939.000000</td>\n",
       "      <td>248939.000000</td>\n",
       "      <td>0.0</td>\n",
       "      <td>248939.000000</td>\n",
       "      <td>0.0</td>\n",
       "      <td>0.0</td>\n",
       "      <td>2.611130e+05</td>\n",
       "      <td>857.000000</td>\n",
       "      <td>243891.000000</td>\n",
       "      <td>...</td>\n",
       "      <td>49.000000</td>\n",
       "      <td>3036.000000</td>\n",
       "      <td>165.000000</td>\n",
       "      <td>948.000000</td>\n",
       "      <td>0.0</td>\n",
       "      <td>268.000000</td>\n",
       "      <td>221210.000000</td>\n",
       "      <td>221210.000000</td>\n",
       "      <td>0.0</td>\n",
       "      <td>0.0</td>\n",
       "    </tr>\n",
       "    <tr>\n",
       "      <th>mean</th>\n",
       "      <td>NaN</td>\n",
       "      <td>1.936024</td>\n",
       "      <td>0.019659</td>\n",
       "      <td>NaN</td>\n",
       "      <td>0.055246</td>\n",
       "      <td>NaN</td>\n",
       "      <td>NaN</td>\n",
       "      <td>1.141915e+03</td>\n",
       "      <td>585.501214</td>\n",
       "      <td>12.730379</td>\n",
       "      <td>...</td>\n",
       "      <td>6.425698</td>\n",
       "      <td>31.458587</td>\n",
       "      <td>15.412121</td>\n",
       "      <td>49.547785</td>\n",
       "      <td>NaN</td>\n",
       "      <td>341.700764</td>\n",
       "      <td>9.165535</td>\n",
       "      <td>9.058049</td>\n",
       "      <td>NaN</td>\n",
       "      <td>NaN</td>\n",
       "    </tr>\n",
       "    <tr>\n",
       "      <th>std</th>\n",
       "      <td>NaN</td>\n",
       "      <td>2.502019</td>\n",
       "      <td>0.140524</td>\n",
       "      <td>NaN</td>\n",
       "      <td>0.269207</td>\n",
       "      <td>NaN</td>\n",
       "      <td>NaN</td>\n",
       "      <td>6.447154e+03</td>\n",
       "      <td>712.809943</td>\n",
       "      <td>17.578747</td>\n",
       "      <td>...</td>\n",
       "      <td>2.047841</td>\n",
       "      <td>31.967918</td>\n",
       "      <td>3.753028</td>\n",
       "      <td>18.757932</td>\n",
       "      <td>NaN</td>\n",
       "      <td>425.211439</td>\n",
       "      <td>9.055903</td>\n",
       "      <td>9.183589</td>\n",
       "      <td>NaN</td>\n",
       "      <td>NaN</td>\n",
       "    </tr>\n",
       "    <tr>\n",
       "      <th>min</th>\n",
       "      <td>NaN</td>\n",
       "      <td>0.000000</td>\n",
       "      <td>0.000000</td>\n",
       "      <td>NaN</td>\n",
       "      <td>0.000000</td>\n",
       "      <td>NaN</td>\n",
       "      <td>NaN</td>\n",
       "      <td>0.000000e+00</td>\n",
       "      <td>0.000000</td>\n",
       "      <td>0.000000</td>\n",
       "      <td>...</td>\n",
       "      <td>0.000000</td>\n",
       "      <td>0.000000</td>\n",
       "      <td>8.000000</td>\n",
       "      <td>6.000000</td>\n",
       "      <td>NaN</td>\n",
       "      <td>0.000000</td>\n",
       "      <td>-15.000000</td>\n",
       "      <td>-15.000000</td>\n",
       "      <td>NaN</td>\n",
       "      <td>NaN</td>\n",
       "    </tr>\n",
       "    <tr>\n",
       "      <th>25%</th>\n",
       "      <td>NaN</td>\n",
       "      <td>0.000000</td>\n",
       "      <td>0.000000</td>\n",
       "      <td>NaN</td>\n",
       "      <td>0.000000</td>\n",
       "      <td>NaN</td>\n",
       "      <td>NaN</td>\n",
       "      <td>3.770000e+02</td>\n",
       "      <td>49.400000</td>\n",
       "      <td>0.000000</td>\n",
       "      <td>...</td>\n",
       "      <td>6.300000</td>\n",
       "      <td>0.000000</td>\n",
       "      <td>12.000000</td>\n",
       "      <td>32.000000</td>\n",
       "      <td>NaN</td>\n",
       "      <td>98.750000</td>\n",
       "      <td>1.000000</td>\n",
       "      <td>1.000000</td>\n",
       "      <td>NaN</td>\n",
       "      <td>NaN</td>\n",
       "    </tr>\n",
       "    <tr>\n",
       "      <th>50%</th>\n",
       "      <td>NaN</td>\n",
       "      <td>1.000000</td>\n",
       "      <td>0.000000</td>\n",
       "      <td>NaN</td>\n",
       "      <td>0.000000</td>\n",
       "      <td>NaN</td>\n",
       "      <td>NaN</td>\n",
       "      <td>1.100000e+03</td>\n",
       "      <td>300.000000</td>\n",
       "      <td>5.000000</td>\n",
       "      <td>...</td>\n",
       "      <td>7.200000</td>\n",
       "      <td>23.000000</td>\n",
       "      <td>15.000000</td>\n",
       "      <td>50.000000</td>\n",
       "      <td>NaN</td>\n",
       "      <td>195.750000</td>\n",
       "      <td>10.000000</td>\n",
       "      <td>9.000000</td>\n",
       "      <td>NaN</td>\n",
       "      <td>NaN</td>\n",
       "    </tr>\n",
       "    <tr>\n",
       "      <th>75%</th>\n",
       "      <td>NaN</td>\n",
       "      <td>3.000000</td>\n",
       "      <td>0.000000</td>\n",
       "      <td>NaN</td>\n",
       "      <td>0.000000</td>\n",
       "      <td>NaN</td>\n",
       "      <td>NaN</td>\n",
       "      <td>1.674000e+03</td>\n",
       "      <td>898.000000</td>\n",
       "      <td>20.000000</td>\n",
       "      <td>...</td>\n",
       "      <td>7.400000</td>\n",
       "      <td>51.000000</td>\n",
       "      <td>15.000000</td>\n",
       "      <td>64.250000</td>\n",
       "      <td>NaN</td>\n",
       "      <td>383.200000</td>\n",
       "      <td>16.000000</td>\n",
       "      <td>16.000000</td>\n",
       "      <td>NaN</td>\n",
       "      <td>NaN</td>\n",
       "    </tr>\n",
       "    <tr>\n",
       "      <th>max</th>\n",
       "      <td>NaN</td>\n",
       "      <td>31.000000</td>\n",
       "      <td>2.000000</td>\n",
       "      <td>NaN</td>\n",
       "      <td>6.000000</td>\n",
       "      <td>NaN</td>\n",
       "      <td>NaN</td>\n",
       "      <td>3.251373e+06</td>\n",
       "      <td>3830.000000</td>\n",
       "      <td>714.290000</td>\n",
       "      <td>...</td>\n",
       "      <td>8.400000</td>\n",
       "      <td>100.000000</td>\n",
       "      <td>25.000000</td>\n",
       "      <td>100.000000</td>\n",
       "      <td>NaN</td>\n",
       "      <td>2842.000000</td>\n",
       "      <td>40.000000</td>\n",
       "      <td>40.000000</td>\n",
       "      <td>NaN</td>\n",
       "      <td>NaN</td>\n",
       "    </tr>\n",
       "  </tbody>\n",
       "</table>\n",
       "<p>8 rows × 106 columns</p>\n",
       "</div>"
      ],
      "text/plain": [
       "       no_nutriments    additives_n  ingredients_from_palm_oil_n  \\\n",
       "count            0.0  248939.000000                248939.000000   \n",
       "mean             NaN       1.936024                     0.019659   \n",
       "std              NaN       2.502019                     0.140524   \n",
       "min              NaN       0.000000                     0.000000   \n",
       "25%              NaN       0.000000                     0.000000   \n",
       "50%              NaN       1.000000                     0.000000   \n",
       "75%              NaN       3.000000                     0.000000   \n",
       "max              NaN      31.000000                     2.000000   \n",
       "\n",
       "       ingredients_from_palm_oil  ingredients_that_may_be_from_palm_oil_n  \\\n",
       "count                        0.0                            248939.000000   \n",
       "mean                         NaN                                 0.055246   \n",
       "std                          NaN                                 0.269207   \n",
       "min                          NaN                                 0.000000   \n",
       "25%                          NaN                                 0.000000   \n",
       "50%                          NaN                                 0.000000   \n",
       "75%                          NaN                                 0.000000   \n",
       "max                          NaN                                 6.000000   \n",
       "\n",
       "       ingredients_that_may_be_from_palm_oil  nutrition_grade_uk  \\\n",
       "count                                    0.0                 0.0   \n",
       "mean                                     NaN                 NaN   \n",
       "std                                      NaN                 NaN   \n",
       "min                                      NaN                 NaN   \n",
       "25%                                      NaN                 NaN   \n",
       "50%                                      NaN                 NaN   \n",
       "75%                                      NaN                 NaN   \n",
       "max                                      NaN                 NaN   \n",
       "\n",
       "        energy_100g  energy-from-fat_100g       fat_100g  ...    ph_100g  \\\n",
       "count  2.611130e+05            857.000000  243891.000000  ...  49.000000   \n",
       "mean   1.141915e+03            585.501214      12.730379  ...   6.425698   \n",
       "std    6.447154e+03            712.809943      17.578747  ...   2.047841   \n",
       "min    0.000000e+00              0.000000       0.000000  ...   0.000000   \n",
       "25%    3.770000e+02             49.400000       0.000000  ...   6.300000   \n",
       "50%    1.100000e+03            300.000000       5.000000  ...   7.200000   \n",
       "75%    1.674000e+03            898.000000      20.000000  ...   7.400000   \n",
       "max    3.251373e+06           3830.000000     714.290000  ...   8.400000   \n",
       "\n",
       "       fruits-vegetables-nuts_100g  collagen-meat-protein-ratio_100g  \\\n",
       "count                  3036.000000                        165.000000   \n",
       "mean                     31.458587                         15.412121   \n",
       "std                      31.967918                          3.753028   \n",
       "min                       0.000000                          8.000000   \n",
       "25%                       0.000000                         12.000000   \n",
       "50%                      23.000000                         15.000000   \n",
       "75%                      51.000000                         15.000000   \n",
       "max                     100.000000                         25.000000   \n",
       "\n",
       "       cocoa_100g  chlorophyl_100g  carbon-footprint_100g  \\\n",
       "count  948.000000              0.0             268.000000   \n",
       "mean    49.547785              NaN             341.700764   \n",
       "std     18.757932              NaN             425.211439   \n",
       "min      6.000000              NaN               0.000000   \n",
       "25%     32.000000              NaN              98.750000   \n",
       "50%     50.000000              NaN             195.750000   \n",
       "75%     64.250000              NaN             383.200000   \n",
       "max    100.000000              NaN            2842.000000   \n",
       "\n",
       "       nutrition-score-fr_100g  nutrition-score-uk_100g  glycemic-index_100g  \\\n",
       "count            221210.000000            221210.000000                  0.0   \n",
       "mean                  9.165535                 9.058049                  NaN   \n",
       "std                   9.055903                 9.183589                  NaN   \n",
       "min                 -15.000000               -15.000000                  NaN   \n",
       "25%                   1.000000                 1.000000                  NaN   \n",
       "50%                  10.000000                 9.000000                  NaN   \n",
       "75%                  16.000000                16.000000                  NaN   \n",
       "max                  40.000000                40.000000                  NaN   \n",
       "\n",
       "       water-hardness_100g  \n",
       "count                  0.0  \n",
       "mean                   NaN  \n",
       "std                    NaN  \n",
       "min                    NaN  \n",
       "25%                    NaN  \n",
       "50%                    NaN  \n",
       "75%                    NaN  \n",
       "max                    NaN  \n",
       "\n",
       "[8 rows x 106 columns]"
      ]
     },
     "execution_count": 8,
     "metadata": {},
     "output_type": "execute_result"
    }
   ],
   "source": [
    "data_df.describe()"
   ]
  },
  {
   "cell_type": "markdown",
   "metadata": {},
   "source": [
    "### 5. Type de données"
   ]
  },
  {
   "cell_type": "code",
   "execution_count": 9,
   "metadata": {},
   "outputs": [
    {
     "data": {
      "text/plain": [
       "code                        object\n",
       "url                         object\n",
       "creator                     object\n",
       "created_t                   object\n",
       "created_datetime            object\n",
       "                            ...   \n",
       "carbon-footprint_100g      float64\n",
       "nutrition-score-fr_100g    float64\n",
       "nutrition-score-uk_100g    float64\n",
       "glycemic-index_100g        float64\n",
       "water-hardness_100g        float64\n",
       "Length: 162, dtype: object"
      ]
     },
     "execution_count": 9,
     "metadata": {},
     "output_type": "execute_result"
    }
   ],
   "source": [
    "data_df.dtypes#.values.tolist()"
   ]
  },
  {
   "cell_type": "markdown",
   "metadata": {},
   "source": [
    "## 4. Calcul du taux de remplissage"
   ]
  },
  {
   "cell_type": "code",
   "execution_count": 10,
   "metadata": {},
   "outputs": [],
   "source": [
    "def tauxRemplissage(df):\n",
    "    \"\"\"\n",
    "    Entrée : DataFrame\n",
    "    Objectifs : Calcul du taux de remplissage, 1 beaucoup de données, 0 beaucoup de valeurs manquantes\n",
    "    Sorties : DataFrame\n",
    "    \"\"\"\n",
    "        \n",
    "    val = 1 - df.isna().sum()/len(df)\n",
    "    val = pd.DataFrame(val)\n",
    "    val = val.transpose()\n",
    "    return val"
   ]
  },
  {
   "cell_type": "code",
   "execution_count": 13,
   "metadata": {},
   "outputs": [],
   "source": [
    "def graphRemplissage(df) :\n",
    "    \"\"\"\n",
    "    Entrée : Dataframe\n",
    "    Objectifs : Récupérer la DataFrame du taux de remplissage et afficher le graphique du taux de remplissage\n",
    "    Sortie : Graphe\n",
    "    \"\"\"\n",
    "\n",
    "    df = tauxRemplissage (df)\n",
    "    fig,ax = plt.subplots()\n",
    "    plt.rcParams[\"figure.figsize\"] = (40,10)\n",
    "    plt.rcParams.update({'font.size': 10})\n",
    "    ax.tick_params(axis='x', rotation=90)\n",
    "    sns.barplot( data=df, color = 'blue')\n",
    "    plt.xlabel('\\nColonnes', fontsize=10)\n",
    "    plt.ylabel('Taux de valeurs\\n', fontsize=10)\n",
    "    plt.gca().xaxis.set_tick_params(labelsize = 10)\n",
    "    plt.gca().yaxis.set_tick_params(labelsize = 10)\n",
    "    plt.title(\"Taux de remplissage\", fontsize=10,fontweight = 'bold')"
   ]
  },
  {
   "cell_type": "code",
   "execution_count": 14,
   "metadata": {},
   "outputs": [
    {
     "data": {
      "image/png": "[encoded data removed]",
      "text/plain": [
       "<Figure size 2880x720 with 1 Axes>"
      ]
     },
     "metadata": {
      "needs_background": "light"
     },
     "output_type": "display_data"
    }
   ],
   "source": [
    "#Affichage du taux de remplissage\n",
    "graphRemplissage(data_df)"
   ]
  },
  {
   "cell_type": "markdown",
   "metadata": {},
   "source": [
    "## 5. Définir un seuil"
   ]
  },
  {
   "cell_type": "code",
   "execution_count": 15,
   "metadata": {},
   "outputs": [],
   "source": [
    "def seuil(df):\n",
    "    \"\"\"\n",
    "    Entrée : DataFrame\n",
    "    Objectifs : Définir un seuil et récupérer les données\n",
    "    Sortie : DataFrame avec les colonnes sélectionnées\n",
    "    \"\"\"\n",
    "    val_nan = tauxRemplissage(df)\n",
    "    seuil = [ x for x in val_nan.columns if val_nan.loc[0,x]>.5 ]\n",
    "    return df[seuil]"
   ]
  },
  {
   "cell_type": "code",
   "execution_count": 16,
   "metadata": {},
   "outputs": [
    {
     "data": {
      "text/html": [
       "<div>\n",
       "<style scoped>\n",
       "    .dataframe tbody tr th:only-of-type {\n",
       "        vertical-align: middle;\n",
       "    }\n",
       "\n",
       "    .dataframe tbody tr th {\n",
       "        vertical-align: top;\n",
       "    }\n",
       "\n",
       "    .dataframe thead th {\n",
       "        text-align: right;\n",
       "    }\n",
       "</style>\n",
       "<table border=\"1\" class=\"dataframe\">\n",
       "  <thead>\n",
       "    <tr style=\"text-align: right;\">\n",
       "      <th></th>\n",
       "      <th>code</th>\n",
       "      <th>url</th>\n",
       "      <th>creator</th>\n",
       "      <th>created_t</th>\n",
       "      <th>created_datetime</th>\n",
       "      <th>last_modified_t</th>\n",
       "      <th>last_modified_datetime</th>\n",
       "      <th>product_name</th>\n",
       "      <th>brands</th>\n",
       "      <th>brands_tags</th>\n",
       "      <th>...</th>\n",
       "      <th>fat_100g</th>\n",
       "      <th>saturated-fat_100g</th>\n",
       "      <th>carbohydrates_100g</th>\n",
       "      <th>sugars_100g</th>\n",
       "      <th>fiber_100g</th>\n",
       "      <th>proteins_100g</th>\n",
       "      <th>salt_100g</th>\n",
       "      <th>sodium_100g</th>\n",
       "      <th>nutrition-score-fr_100g</th>\n",
       "      <th>nutrition-score-uk_100g</th>\n",
       "    </tr>\n",
       "  </thead>\n",
       "  <tbody>\n",
       "    <tr>\n",
       "      <th>0</th>\n",
       "      <td>0000000003087</td>\n",
       "      <td>http://world-fr.openfoodfacts.org/produit/0000...</td>\n",
       "      <td>openfoodfacts-contributors</td>\n",
       "      <td>1474103866</td>\n",
       "      <td>2016-09-17T09:17:46Z</td>\n",
       "      <td>1474103893</td>\n",
       "      <td>2016-09-17T09:18:13Z</td>\n",
       "      <td>Farine de blé noir</td>\n",
       "      <td>Ferme t'y R'nao</td>\n",
       "      <td>ferme-t-y-r-nao</td>\n",
       "      <td>...</td>\n",
       "      <td>NaN</td>\n",
       "      <td>NaN</td>\n",
       "      <td>NaN</td>\n",
       "      <td>NaN</td>\n",
       "      <td>NaN</td>\n",
       "      <td>NaN</td>\n",
       "      <td>NaN</td>\n",
       "      <td>NaN</td>\n",
       "      <td>NaN</td>\n",
       "      <td>NaN</td>\n",
       "    </tr>\n",
       "    <tr>\n",
       "      <th>1</th>\n",
       "      <td>0000000004530</td>\n",
       "      <td>http://world-fr.openfoodfacts.org/produit/0000...</td>\n",
       "      <td>usda-ndb-import</td>\n",
       "      <td>1489069957</td>\n",
       "      <td>2017-03-09T14:32:37Z</td>\n",
       "      <td>1489069957</td>\n",
       "      <td>2017-03-09T14:32:37Z</td>\n",
       "      <td>Banana Chips Sweetened (Whole)</td>\n",
       "      <td>NaN</td>\n",
       "      <td>NaN</td>\n",
       "      <td>...</td>\n",
       "      <td>28.57</td>\n",
       "      <td>28.57</td>\n",
       "      <td>64.29</td>\n",
       "      <td>14.29</td>\n",
       "      <td>3.6</td>\n",
       "      <td>3.57</td>\n",
       "      <td>0.00000</td>\n",
       "      <td>0.000</td>\n",
       "      <td>14.0</td>\n",
       "      <td>14.0</td>\n",
       "    </tr>\n",
       "    <tr>\n",
       "      <th>2</th>\n",
       "      <td>0000000004559</td>\n",
       "      <td>http://world-fr.openfoodfacts.org/produit/0000...</td>\n",
       "      <td>usda-ndb-import</td>\n",
       "      <td>1489069957</td>\n",
       "      <td>2017-03-09T14:32:37Z</td>\n",
       "      <td>1489069957</td>\n",
       "      <td>2017-03-09T14:32:37Z</td>\n",
       "      <td>Peanuts</td>\n",
       "      <td>Torn &amp; Glasser</td>\n",
       "      <td>torn-glasser</td>\n",
       "      <td>...</td>\n",
       "      <td>17.86</td>\n",
       "      <td>0.00</td>\n",
       "      <td>60.71</td>\n",
       "      <td>17.86</td>\n",
       "      <td>7.1</td>\n",
       "      <td>17.86</td>\n",
       "      <td>0.63500</td>\n",
       "      <td>0.250</td>\n",
       "      <td>0.0</td>\n",
       "      <td>0.0</td>\n",
       "    </tr>\n",
       "    <tr>\n",
       "      <th>3</th>\n",
       "      <td>0000000016087</td>\n",
       "      <td>http://world-fr.openfoodfacts.org/produit/0000...</td>\n",
       "      <td>usda-ndb-import</td>\n",
       "      <td>1489055731</td>\n",
       "      <td>2017-03-09T10:35:31Z</td>\n",
       "      <td>1489055731</td>\n",
       "      <td>2017-03-09T10:35:31Z</td>\n",
       "      <td>Organic Salted Nut Mix</td>\n",
       "      <td>Grizzlies</td>\n",
       "      <td>grizzlies</td>\n",
       "      <td>...</td>\n",
       "      <td>57.14</td>\n",
       "      <td>5.36</td>\n",
       "      <td>17.86</td>\n",
       "      <td>3.57</td>\n",
       "      <td>7.1</td>\n",
       "      <td>17.86</td>\n",
       "      <td>1.22428</td>\n",
       "      <td>0.482</td>\n",
       "      <td>12.0</td>\n",
       "      <td>12.0</td>\n",
       "    </tr>\n",
       "    <tr>\n",
       "      <th>4</th>\n",
       "      <td>0000000016094</td>\n",
       "      <td>http://world-fr.openfoodfacts.org/produit/0000...</td>\n",
       "      <td>usda-ndb-import</td>\n",
       "      <td>1489055653</td>\n",
       "      <td>2017-03-09T10:34:13Z</td>\n",
       "      <td>1489055653</td>\n",
       "      <td>2017-03-09T10:34:13Z</td>\n",
       "      <td>Organic Polenta</td>\n",
       "      <td>Bob's Red Mill</td>\n",
       "      <td>bob-s-red-mill</td>\n",
       "      <td>...</td>\n",
       "      <td>1.43</td>\n",
       "      <td>NaN</td>\n",
       "      <td>77.14</td>\n",
       "      <td>NaN</td>\n",
       "      <td>5.7</td>\n",
       "      <td>8.57</td>\n",
       "      <td>NaN</td>\n",
       "      <td>NaN</td>\n",
       "      <td>NaN</td>\n",
       "      <td>NaN</td>\n",
       "    </tr>\n",
       "  </tbody>\n",
       "</table>\n",
       "<p>5 rows × 34 columns</p>\n",
       "</div>"
      ],
      "text/plain": [
       "            code                                                url  \\\n",
       "0  0000000003087  http://world-fr.openfoodfacts.org/produit/0000...   \n",
       "1  0000000004530  http://world-fr.openfoodfacts.org/produit/0000...   \n",
       "2  0000000004559  http://world-fr.openfoodfacts.org/produit/0000...   \n",
       "3  0000000016087  http://world-fr.openfoodfacts.org/produit/0000...   \n",
       "4  0000000016094  http://world-fr.openfoodfacts.org/produit/0000...   \n",
       "\n",
       "                      creator   created_t      created_datetime  \\\n",
       "0  openfoodfacts-contributors  1474103866  2016-09-17T09:17:46Z   \n",
       "1             usda-ndb-import  1489069957  2017-03-09T14:32:37Z   \n",
       "2             usda-ndb-import  1489069957  2017-03-09T14:32:37Z   \n",
       "3             usda-ndb-import  1489055731  2017-03-09T10:35:31Z   \n",
       "4             usda-ndb-import  1489055653  2017-03-09T10:34:13Z   \n",
       "\n",
       "  last_modified_t last_modified_datetime                    product_name  \\\n",
       "0      1474103893   2016-09-17T09:18:13Z              Farine de blé noir   \n",
       "1      1489069957   2017-03-09T14:32:37Z  Banana Chips Sweetened (Whole)   \n",
       "2      1489069957   2017-03-09T14:32:37Z                         Peanuts   \n",
       "3      1489055731   2017-03-09T10:35:31Z          Organic Salted Nut Mix   \n",
       "4      1489055653   2017-03-09T10:34:13Z                 Organic Polenta   \n",
       "\n",
       "            brands      brands_tags  ... fat_100g saturated-fat_100g  \\\n",
       "0  Ferme t'y R'nao  ferme-t-y-r-nao  ...      NaN                NaN   \n",
       "1              NaN              NaN  ...    28.57              28.57   \n",
       "2   Torn & Glasser     torn-glasser  ...    17.86               0.00   \n",
       "3        Grizzlies        grizzlies  ...    57.14               5.36   \n",
       "4   Bob's Red Mill   bob-s-red-mill  ...     1.43                NaN   \n",
       "\n",
       "  carbohydrates_100g sugars_100g fiber_100g  proteins_100g salt_100g  \\\n",
       "0                NaN         NaN        NaN            NaN       NaN   \n",
       "1              64.29       14.29        3.6           3.57   0.00000   \n",
       "2              60.71       17.86        7.1          17.86   0.63500   \n",
       "3              17.86        3.57        7.1          17.86   1.22428   \n",
       "4              77.14         NaN        5.7           8.57       NaN   \n",
       "\n",
       "   sodium_100g  nutrition-score-fr_100g nutrition-score-uk_100g  \n",
       "0          NaN                      NaN                     NaN  \n",
       "1        0.000                     14.0                    14.0  \n",
       "2        0.250                      0.0                     0.0  \n",
       "3        0.482                     12.0                    12.0  \n",
       "4          NaN                      NaN                     NaN  \n",
       "\n",
       "[5 rows x 34 columns]"
      ]
     },
     "execution_count": 16,
     "metadata": {},
     "output_type": "execute_result"
    }
   ],
   "source": [
    "data_selec = seuil(data_df)\n",
    "data_selec.head()"
   ]
  },
  {
   "cell_type": "code",
   "execution_count": 17,
   "metadata": {},
   "outputs": [
    {
     "data": {
      "text/plain": [
       "code                                        object\n",
       "url                                         object\n",
       "creator                                     object\n",
       "created_t                                   object\n",
       "created_datetime                            object\n",
       "last_modified_t                             object\n",
       "last_modified_datetime                      object\n",
       "product_name                                object\n",
       "brands                                      object\n",
       "brands_tags                                 object\n",
       "countries                                   object\n",
       "countries_tags                              object\n",
       "countries_fr                                object\n",
       "ingredients_text                            object\n",
       "serving_size                                object\n",
       "additives_n                                float64\n",
       "additives                                   object\n",
       "ingredients_from_palm_oil_n                float64\n",
       "ingredients_that_may_be_from_palm_oil_n    float64\n",
       "nutrition_grade_fr                          object\n",
       "states                                      object\n",
       "states_tags                                 object\n",
       "states_fr                                   object\n",
       "energy_100g                                float64\n",
       "fat_100g                                   float64\n",
       "saturated-fat_100g                         float64\n",
       "carbohydrates_100g                         float64\n",
       "sugars_100g                                float64\n",
       "fiber_100g                                 float64\n",
       "proteins_100g                              float64\n",
       "salt_100g                                  float64\n",
       "sodium_100g                                float64\n",
       "nutrition-score-fr_100g                    float64\n",
       "nutrition-score-uk_100g                    float64\n",
       "dtype: object"
      ]
     },
     "execution_count": 17,
     "metadata": {},
     "output_type": "execute_result"
    }
   ],
   "source": [
    "data_selec.dtypes"
   ]
  },
  {
   "cell_type": "markdown",
   "metadata": {},
   "source": [
    "## 6. Sélection des indicateurs"
   ]
  },
  {
   "cell_type": "markdown",
   "metadata": {},
   "source": [
    "### 1. Analyse des indicateurs"
   ]
  },
  {
   "cell_type": "code",
   "execution_count": 18,
   "metadata": {},
   "outputs": [
    {
     "data": {
      "text/plain": [
       "Index(['additives_n', 'ingredients_from_palm_oil_n',\n",
       "       'ingredients_that_may_be_from_palm_oil_n', 'energy_100g', 'fat_100g',\n",
       "       'saturated-fat_100g', 'carbohydrates_100g', 'sugars_100g', 'fiber_100g',\n",
       "       'proteins_100g', 'salt_100g', 'sodium_100g', 'nutrition-score-fr_100g',\n",
       "       'nutrition-score-uk_100g'],\n",
       "      dtype='object')"
      ]
     },
     "execution_count": 18,
     "metadata": {},
     "output_type": "execute_result"
    }
   ],
   "source": [
    "data_selec.select_dtypes(exclude = 'object').columns"
   ]
  },
  {
   "cell_type": "code",
   "execution_count": 19,
   "metadata": {},
   "outputs": [
    {
     "data": {
      "text/plain": [
       "Index(['code', 'url', 'creator', 'created_t', 'created_datetime',\n",
       "       'last_modified_t', 'last_modified_datetime', 'product_name', 'brands',\n",
       "       'brands_tags', 'countries', 'countries_tags', 'countries_fr',\n",
       "       'ingredients_text', 'serving_size', 'additives', 'nutrition_grade_fr',\n",
       "       'states', 'states_tags', 'states_fr'],\n",
       "      dtype='object')"
      ]
     },
     "execution_count": 19,
     "metadata": {},
     "output_type": "execute_result"
    }
   ],
   "source": [
    "data_selec.select_dtypes(include = 'object').columns"
   ]
  },
  {
   "cell_type": "markdown",
   "metadata": {},
   "source": [
    "### 2. Supprimer les valeurs duppliquées"
   ]
  },
  {
   "cell_type": "code",
   "execution_count": 20,
   "metadata": {},
   "outputs": [],
   "source": [
    "data_selec.sort_values('created_t').drop_duplicates(\"product_name\", keep = \"last\", inplace = True)"
   ]
  },
  {
   "cell_type": "markdown",
   "metadata": {},
   "source": [
    "### 3. Choix des indicateurs"
   ]
  },
  {
   "cell_type": "code",
   "execution_count": 21,
   "metadata": {},
   "outputs": [],
   "source": [
    "indicateur = (['code','created_datetime','last_modified_datetime',\n",
    "'product_name','countries','nutrition_grade_fr',\n",
    "'additives_n','ingredients_from_palm_oil_n','ingredients_that_may_be_from_palm_oil_n',\n",
    "'energy_100g','fat_100g','saturated-fat_100g',\n",
    "'carbohydrates_100g','sugars_100g','fiber_100g',\n",
    "'proteins_100g','salt_100g','sodium_100g',\n",
    "'nutrition-score-fr_100g','nutrition-score-uk_100g'])"
   ]
  },
  {
   "cell_type": "code",
   "execution_count": 22,
   "metadata": {},
   "outputs": [
    {
     "data": {
      "text/html": [
       "<div>\n",
       "<style scoped>\n",
       "    .dataframe tbody tr th:only-of-type {\n",
       "        vertical-align: middle;\n",
       "    }\n",
       "\n",
       "    .dataframe tbody tr th {\n",
       "        vertical-align: top;\n",
       "    }\n",
       "\n",
       "    .dataframe thead th {\n",
       "        text-align: right;\n",
       "    }\n",
       "</style>\n",
       "<table border=\"1\" class=\"dataframe\">\n",
       "  <thead>\n",
       "    <tr style=\"text-align: right;\">\n",
       "      <th></th>\n",
       "      <th>code</th>\n",
       "      <th>created_datetime</th>\n",
       "      <th>last_modified_datetime</th>\n",
       "      <th>product_name</th>\n",
       "      <th>countries</th>\n",
       "      <th>nutrition_grade_fr</th>\n",
       "      <th>additives_n</th>\n",
       "      <th>ingredients_from_palm_oil_n</th>\n",
       "      <th>ingredients_that_may_be_from_palm_oil_n</th>\n",
       "      <th>energy_100g</th>\n",
       "      <th>fat_100g</th>\n",
       "      <th>saturated-fat_100g</th>\n",
       "      <th>carbohydrates_100g</th>\n",
       "      <th>sugars_100g</th>\n",
       "      <th>fiber_100g</th>\n",
       "      <th>proteins_100g</th>\n",
       "      <th>salt_100g</th>\n",
       "      <th>sodium_100g</th>\n",
       "      <th>nutrition-score-fr_100g</th>\n",
       "      <th>nutrition-score-uk_100g</th>\n",
       "    </tr>\n",
       "  </thead>\n",
       "  <tbody>\n",
       "    <tr>\n",
       "      <th>0</th>\n",
       "      <td>0000000003087</td>\n",
       "      <td>2016-09-17T09:17:46Z</td>\n",
       "      <td>2016-09-17T09:18:13Z</td>\n",
       "      <td>Farine de blé noir</td>\n",
       "      <td>en:FR</td>\n",
       "      <td>NaN</td>\n",
       "      <td>NaN</td>\n",
       "      <td>NaN</td>\n",
       "      <td>NaN</td>\n",
       "      <td>NaN</td>\n",
       "      <td>NaN</td>\n",
       "      <td>NaN</td>\n",
       "      <td>NaN</td>\n",
       "      <td>NaN</td>\n",
       "      <td>NaN</td>\n",
       "      <td>NaN</td>\n",
       "      <td>NaN</td>\n",
       "      <td>NaN</td>\n",
       "      <td>NaN</td>\n",
       "      <td>NaN</td>\n",
       "    </tr>\n",
       "    <tr>\n",
       "      <th>1</th>\n",
       "      <td>0000000004530</td>\n",
       "      <td>2017-03-09T14:32:37Z</td>\n",
       "      <td>2017-03-09T14:32:37Z</td>\n",
       "      <td>Banana Chips Sweetened (Whole)</td>\n",
       "      <td>US</td>\n",
       "      <td>d</td>\n",
       "      <td>0.0</td>\n",
       "      <td>0.0</td>\n",
       "      <td>0.0</td>\n",
       "      <td>2243.0</td>\n",
       "      <td>28.57</td>\n",
       "      <td>28.57</td>\n",
       "      <td>64.29</td>\n",
       "      <td>14.29</td>\n",
       "      <td>3.6</td>\n",
       "      <td>3.57</td>\n",
       "      <td>0.00000</td>\n",
       "      <td>0.000</td>\n",
       "      <td>14.0</td>\n",
       "      <td>14.0</td>\n",
       "    </tr>\n",
       "    <tr>\n",
       "      <th>2</th>\n",
       "      <td>0000000004559</td>\n",
       "      <td>2017-03-09T14:32:37Z</td>\n",
       "      <td>2017-03-09T14:32:37Z</td>\n",
       "      <td>Peanuts</td>\n",
       "      <td>US</td>\n",
       "      <td>b</td>\n",
       "      <td>0.0</td>\n",
       "      <td>0.0</td>\n",
       "      <td>0.0</td>\n",
       "      <td>1941.0</td>\n",
       "      <td>17.86</td>\n",
       "      <td>0.00</td>\n",
       "      <td>60.71</td>\n",
       "      <td>17.86</td>\n",
       "      <td>7.1</td>\n",
       "      <td>17.86</td>\n",
       "      <td>0.63500</td>\n",
       "      <td>0.250</td>\n",
       "      <td>0.0</td>\n",
       "      <td>0.0</td>\n",
       "    </tr>\n",
       "    <tr>\n",
       "      <th>3</th>\n",
       "      <td>0000000016087</td>\n",
       "      <td>2017-03-09T10:35:31Z</td>\n",
       "      <td>2017-03-09T10:35:31Z</td>\n",
       "      <td>Organic Salted Nut Mix</td>\n",
       "      <td>US</td>\n",
       "      <td>d</td>\n",
       "      <td>0.0</td>\n",
       "      <td>0.0</td>\n",
       "      <td>0.0</td>\n",
       "      <td>2540.0</td>\n",
       "      <td>57.14</td>\n",
       "      <td>5.36</td>\n",
       "      <td>17.86</td>\n",
       "      <td>3.57</td>\n",
       "      <td>7.1</td>\n",
       "      <td>17.86</td>\n",
       "      <td>1.22428</td>\n",
       "      <td>0.482</td>\n",
       "      <td>12.0</td>\n",
       "      <td>12.0</td>\n",
       "    </tr>\n",
       "    <tr>\n",
       "      <th>4</th>\n",
       "      <td>0000000016094</td>\n",
       "      <td>2017-03-09T10:34:13Z</td>\n",
       "      <td>2017-03-09T10:34:13Z</td>\n",
       "      <td>Organic Polenta</td>\n",
       "      <td>US</td>\n",
       "      <td>NaN</td>\n",
       "      <td>0.0</td>\n",
       "      <td>0.0</td>\n",
       "      <td>0.0</td>\n",
       "      <td>1552.0</td>\n",
       "      <td>1.43</td>\n",
       "      <td>NaN</td>\n",
       "      <td>77.14</td>\n",
       "      <td>NaN</td>\n",
       "      <td>5.7</td>\n",
       "      <td>8.57</td>\n",
       "      <td>NaN</td>\n",
       "      <td>NaN</td>\n",
       "      <td>NaN</td>\n",
       "      <td>NaN</td>\n",
       "    </tr>\n",
       "  </tbody>\n",
       "</table>\n",
       "</div>"
      ],
      "text/plain": [
       "            code      created_datetime last_modified_datetime  \\\n",
       "0  0000000003087  2016-09-17T09:17:46Z   2016-09-17T09:18:13Z   \n",
       "1  0000000004530  2017-03-09T14:32:37Z   2017-03-09T14:32:37Z   \n",
       "2  0000000004559  2017-03-09T14:32:37Z   2017-03-09T14:32:37Z   \n",
       "3  0000000016087  2017-03-09T10:35:31Z   2017-03-09T10:35:31Z   \n",
       "4  0000000016094  2017-03-09T10:34:13Z   2017-03-09T10:34:13Z   \n",
       "\n",
       "                     product_name countries nutrition_grade_fr  additives_n  \\\n",
       "0              Farine de blé noir     en:FR                NaN          NaN   \n",
       "1  Banana Chips Sweetened (Whole)        US                  d          0.0   \n",
       "2                         Peanuts        US                  b          0.0   \n",
       "3          Organic Salted Nut Mix        US                  d          0.0   \n",
       "4                 Organic Polenta        US                NaN          0.0   \n",
       "\n",
       "   ingredients_from_palm_oil_n  ingredients_that_may_be_from_palm_oil_n  \\\n",
       "0                          NaN                                      NaN   \n",
       "1                          0.0                                      0.0   \n",
       "2                          0.0                                      0.0   \n",
       "3                          0.0                                      0.0   \n",
       "4                          0.0                                      0.0   \n",
       "\n",
       "   energy_100g  fat_100g  saturated-fat_100g  carbohydrates_100g  sugars_100g  \\\n",
       "0          NaN       NaN                 NaN                 NaN          NaN   \n",
       "1       2243.0     28.57               28.57               64.29        14.29   \n",
       "2       1941.0     17.86                0.00               60.71        17.86   \n",
       "3       2540.0     57.14                5.36               17.86         3.57   \n",
       "4       1552.0      1.43                 NaN               77.14          NaN   \n",
       "\n",
       "   fiber_100g  proteins_100g  salt_100g  sodium_100g  nutrition-score-fr_100g  \\\n",
       "0         NaN            NaN        NaN          NaN                      NaN   \n",
       "1         3.6           3.57    0.00000        0.000                     14.0   \n",
       "2         7.1          17.86    0.63500        0.250                      0.0   \n",
       "3         7.1          17.86    1.22428        0.482                     12.0   \n",
       "4         5.7           8.57        NaN          NaN                      NaN   \n",
       "\n",
       "   nutrition-score-uk_100g  \n",
       "0                      NaN  \n",
       "1                     14.0  \n",
       "2                      0.0  \n",
       "3                     12.0  \n",
       "4                      NaN  "
      ]
     },
     "execution_count": 22,
     "metadata": {},
     "output_type": "execute_result"
    }
   ],
   "source": [
    "df = data_selec[indicateur]\n",
    "df.head()"
   ]
  },
  {
   "cell_type": "markdown",
   "metadata": {},
   "source": [
    "## 7. Conversion date"
   ]
  },
  {
   "cell_type": "code",
   "execution_count": 23,
   "metadata": {},
   "outputs": [],
   "source": [
    "def conversionDate(data,indicateur_date):\n",
    "    \"\"\"\n",
    "    Entrée : Dataframe et une liste de date à convertir\n",
    "    Objectif : Convertir la liste en datetime\n",
    "    Sortie : DataFrame en bonne conversion\n",
    "    \"\"\"\n",
    "    \n",
    "    for i in range(0,len(indicateur_date),1):\n",
    "        data[indicateur_date[i]] = pd.to_datetime(data[indicateur_date[i]], format=\"%Y-%m-%dT%H:%M:%S.%f\", errors = 'coerce')\n",
    "    return df"
   ]
  },
  {
   "cell_type": "code",
   "execution_count": 24,
   "metadata": {},
   "outputs": [],
   "source": [
    "indicateur_date = ([\n",
    "'created_datetime',\n",
    "'last_modified_datetime'])"
   ]
  },
  {
   "cell_type": "code",
   "execution_count": 25,
   "metadata": {
    "scrolled": true
   },
   "outputs": [
    {
     "name": "stderr",
     "output_type": "stream",
     "text": [
      "C:\\Users\\cisso\\AppData\\Local\\Temp/ipykernel_21696/3974037538.py:9: SettingWithCopyWarning: \n",
      "A value is trying to be set on a copy of a slice from a DataFrame.\n",
      "Try using .loc[row_indexer,col_indexer] = value instead\n",
      "\n",
      "See the caveats in the documentation: https://pandas.pydata.org/pandas-docs/stable/user_guide/indexing.html#returning-a-view-versus-a-copy\n",
      "  data[indicateur_date[i]] = pd.to_datetime(data[indicateur_date[i]], format=\"%Y-%m-%dT%H:%M:%S.%f\", errors = 'coerce')\n"
     ]
    },
    {
     "data": {
      "text/html": [
       "<div>\n",
       "<style scoped>\n",
       "    .dataframe tbody tr th:only-of-type {\n",
       "        vertical-align: middle;\n",
       "    }\n",
       "\n",
       "    .dataframe tbody tr th {\n",
       "        vertical-align: top;\n",
       "    }\n",
       "\n",
       "    .dataframe thead th {\n",
       "        text-align: right;\n",
       "    }\n",
       "</style>\n",
       "<table border=\"1\" class=\"dataframe\">\n",
       "  <thead>\n",
       "    <tr style=\"text-align: right;\">\n",
       "      <th></th>\n",
       "      <th>code</th>\n",
       "      <th>created_datetime</th>\n",
       "      <th>last_modified_datetime</th>\n",
       "      <th>product_name</th>\n",
       "      <th>countries</th>\n",
       "      <th>nutrition_grade_fr</th>\n",
       "      <th>additives_n</th>\n",
       "      <th>ingredients_from_palm_oil_n</th>\n",
       "      <th>ingredients_that_may_be_from_palm_oil_n</th>\n",
       "      <th>energy_100g</th>\n",
       "      <th>fat_100g</th>\n",
       "      <th>saturated-fat_100g</th>\n",
       "      <th>carbohydrates_100g</th>\n",
       "      <th>sugars_100g</th>\n",
       "      <th>fiber_100g</th>\n",
       "      <th>proteins_100g</th>\n",
       "      <th>salt_100g</th>\n",
       "      <th>sodium_100g</th>\n",
       "      <th>nutrition-score-fr_100g</th>\n",
       "      <th>nutrition-score-uk_100g</th>\n",
       "    </tr>\n",
       "  </thead>\n",
       "  <tbody>\n",
       "    <tr>\n",
       "      <th>0</th>\n",
       "      <td>0000000003087</td>\n",
       "      <td>2016-09-17 09:17:46+00:00</td>\n",
       "      <td>2016-09-17 09:18:13+00:00</td>\n",
       "      <td>Farine de blé noir</td>\n",
       "      <td>en:FR</td>\n",
       "      <td>NaN</td>\n",
       "      <td>NaN</td>\n",
       "      <td>NaN</td>\n",
       "      <td>NaN</td>\n",
       "      <td>NaN</td>\n",
       "      <td>NaN</td>\n",
       "      <td>NaN</td>\n",
       "      <td>NaN</td>\n",
       "      <td>NaN</td>\n",
       "      <td>NaN</td>\n",
       "      <td>NaN</td>\n",
       "      <td>NaN</td>\n",
       "      <td>NaN</td>\n",
       "      <td>NaN</td>\n",
       "      <td>NaN</td>\n",
       "    </tr>\n",
       "    <tr>\n",
       "      <th>1</th>\n",
       "      <td>0000000004530</td>\n",
       "      <td>2017-03-09 14:32:37+00:00</td>\n",
       "      <td>2017-03-09 14:32:37+00:00</td>\n",
       "      <td>Banana Chips Sweetened (Whole)</td>\n",
       "      <td>US</td>\n",
       "      <td>d</td>\n",
       "      <td>0.0</td>\n",
       "      <td>0.0</td>\n",
       "      <td>0.0</td>\n",
       "      <td>2243.0</td>\n",
       "      <td>28.57</td>\n",
       "      <td>28.57</td>\n",
       "      <td>64.29</td>\n",
       "      <td>14.29</td>\n",
       "      <td>3.6</td>\n",
       "      <td>3.57</td>\n",
       "      <td>0.00000</td>\n",
       "      <td>0.000</td>\n",
       "      <td>14.0</td>\n",
       "      <td>14.0</td>\n",
       "    </tr>\n",
       "    <tr>\n",
       "      <th>2</th>\n",
       "      <td>0000000004559</td>\n",
       "      <td>2017-03-09 14:32:37+00:00</td>\n",
       "      <td>2017-03-09 14:32:37+00:00</td>\n",
       "      <td>Peanuts</td>\n",
       "      <td>US</td>\n",
       "      <td>b</td>\n",
       "      <td>0.0</td>\n",
       "      <td>0.0</td>\n",
       "      <td>0.0</td>\n",
       "      <td>1941.0</td>\n",
       "      <td>17.86</td>\n",
       "      <td>0.00</td>\n",
       "      <td>60.71</td>\n",
       "      <td>17.86</td>\n",
       "      <td>7.1</td>\n",
       "      <td>17.86</td>\n",
       "      <td>0.63500</td>\n",
       "      <td>0.250</td>\n",
       "      <td>0.0</td>\n",
       "      <td>0.0</td>\n",
       "    </tr>\n",
       "    <tr>\n",
       "      <th>3</th>\n",
       "      <td>0000000016087</td>\n",
       "      <td>2017-03-09 10:35:31+00:00</td>\n",
       "      <td>2017-03-09 10:35:31+00:00</td>\n",
       "      <td>Organic Salted Nut Mix</td>\n",
       "      <td>US</td>\n",
       "      <td>d</td>\n",
       "      <td>0.0</td>\n",
       "      <td>0.0</td>\n",
       "      <td>0.0</td>\n",
       "      <td>2540.0</td>\n",
       "      <td>57.14</td>\n",
       "      <td>5.36</td>\n",
       "      <td>17.86</td>\n",
       "      <td>3.57</td>\n",
       "      <td>7.1</td>\n",
       "      <td>17.86</td>\n",
       "      <td>1.22428</td>\n",
       "      <td>0.482</td>\n",
       "      <td>12.0</td>\n",
       "      <td>12.0</td>\n",
       "    </tr>\n",
       "    <tr>\n",
       "      <th>4</th>\n",
       "      <td>0000000016094</td>\n",
       "      <td>2017-03-09 10:34:13+00:00</td>\n",
       "      <td>2017-03-09 10:34:13+00:00</td>\n",
       "      <td>Organic Polenta</td>\n",
       "      <td>US</td>\n",
       "      <td>NaN</td>\n",
       "      <td>0.0</td>\n",
       "      <td>0.0</td>\n",
       "      <td>0.0</td>\n",
       "      <td>1552.0</td>\n",
       "      <td>1.43</td>\n",
       "      <td>NaN</td>\n",
       "      <td>77.14</td>\n",
       "      <td>NaN</td>\n",
       "      <td>5.7</td>\n",
       "      <td>8.57</td>\n",
       "      <td>NaN</td>\n",
       "      <td>NaN</td>\n",
       "      <td>NaN</td>\n",
       "      <td>NaN</td>\n",
       "    </tr>\n",
       "  </tbody>\n",
       "</table>\n",
       "</div>"
      ],
      "text/plain": [
       "            code          created_datetime    last_modified_datetime  \\\n",
       "0  0000000003087 2016-09-17 09:17:46+00:00 2016-09-17 09:18:13+00:00   \n",
       "1  0000000004530 2017-03-09 14:32:37+00:00 2017-03-09 14:32:37+00:00   \n",
       "2  0000000004559 2017-03-09 14:32:37+00:00 2017-03-09 14:32:37+00:00   \n",
       "3  0000000016087 2017-03-09 10:35:31+00:00 2017-03-09 10:35:31+00:00   \n",
       "4  0000000016094 2017-03-09 10:34:13+00:00 2017-03-09 10:34:13+00:00   \n",
       "\n",
       "                     product_name countries nutrition_grade_fr  additives_n  \\\n",
       "0              Farine de blé noir     en:FR                NaN          NaN   \n",
       "1  Banana Chips Sweetened (Whole)        US                  d          0.0   \n",
       "2                         Peanuts        US                  b          0.0   \n",
       "3          Organic Salted Nut Mix        US                  d          0.0   \n",
       "4                 Organic Polenta        US                NaN          0.0   \n",
       "\n",
       "   ingredients_from_palm_oil_n  ingredients_that_may_be_from_palm_oil_n  \\\n",
       "0                          NaN                                      NaN   \n",
       "1                          0.0                                      0.0   \n",
       "2                          0.0                                      0.0   \n",
       "3                          0.0                                      0.0   \n",
       "4                          0.0                                      0.0   \n",
       "\n",
       "   energy_100g  fat_100g  saturated-fat_100g  carbohydrates_100g  sugars_100g  \\\n",
       "0          NaN       NaN                 NaN                 NaN          NaN   \n",
       "1       2243.0     28.57               28.57               64.29        14.29   \n",
       "2       1941.0     17.86                0.00               60.71        17.86   \n",
       "3       2540.0     57.14                5.36               17.86         3.57   \n",
       "4       1552.0      1.43                 NaN               77.14          NaN   \n",
       "\n",
       "   fiber_100g  proteins_100g  salt_100g  sodium_100g  nutrition-score-fr_100g  \\\n",
       "0         NaN            NaN        NaN          NaN                      NaN   \n",
       "1         3.6           3.57    0.00000        0.000                     14.0   \n",
       "2         7.1          17.86    0.63500        0.250                      0.0   \n",
       "3         7.1          17.86    1.22428        0.482                     12.0   \n",
       "4         5.7           8.57        NaN          NaN                      NaN   \n",
       "\n",
       "   nutrition-score-uk_100g  \n",
       "0                      NaN  \n",
       "1                     14.0  \n",
       "2                      0.0  \n",
       "3                     12.0  \n",
       "4                      NaN  "
      ]
     },
     "execution_count": 25,
     "metadata": {},
     "output_type": "execute_result"
    }
   ],
   "source": [
    "conversionDate(df,indicateur_date).head()"
   ]
  },
  {
   "cell_type": "code",
   "execution_count": 26,
   "metadata": {},
   "outputs": [
    {
     "data": {
      "text/plain": [
       "code                                                    object\n",
       "created_datetime                           datetime64[ns, UTC]\n",
       "last_modified_datetime                     datetime64[ns, UTC]\n",
       "product_name                                            object\n",
       "countries                                               object\n",
       "nutrition_grade_fr                                      object\n",
       "additives_n                                            float64\n",
       "ingredients_from_palm_oil_n                            float64\n",
       "ingredients_that_may_be_from_palm_oil_n                float64\n",
       "energy_100g                                            float64\n",
       "fat_100g                                               float64\n",
       "saturated-fat_100g                                     float64\n",
       "carbohydrates_100g                                     float64\n",
       "sugars_100g                                            float64\n",
       "fiber_100g                                             float64\n",
       "proteins_100g                                          float64\n",
       "salt_100g                                              float64\n",
       "sodium_100g                                            float64\n",
       "nutrition-score-fr_100g                                float64\n",
       "nutrition-score-uk_100g                                float64\n",
       "dtype: object"
      ]
     },
     "execution_count": 26,
     "metadata": {},
     "output_type": "execute_result"
    }
   ],
   "source": [
    "df.dtypes"
   ]
  },
  {
   "cell_type": "markdown",
   "metadata": {},
   "source": [
    "## 4. Conversion"
   ]
  },
  {
   "cell_type": "code",
   "execution_count": 27,
   "metadata": {},
   "outputs": [],
   "source": [
    "def conversion (df):\n",
    "    \"\"\"\n",
    "    Entrée : DataFrame\n",
    "    Objectif : Selectionner les colonnes de types objets et les convertir en string\n",
    "    Sortie ; DataFrame convertit\n",
    "    \"\"\"\n",
    "    col = df.select_dtypes(include = 'object').columns\n",
    "    df[col] = df[col].astype('string')\n",
    "    return df"
   ]
  },
  {
   "cell_type": "code",
   "execution_count": 28,
   "metadata": {
    "scrolled": true
   },
   "outputs": [
    {
     "name": "stderr",
     "output_type": "stream",
     "text": [
      "C:\\Users\\cisso\\anaconda3\\lib\\site-packages\\pandas\\core\\frame.py:3641: SettingWithCopyWarning: \n",
      "A value is trying to be set on a copy of a slice from a DataFrame.\n",
      "Try using .loc[row_indexer,col_indexer] = value instead\n",
      "\n",
      "See the caveats in the documentation: https://pandas.pydata.org/pandas-docs/stable/user_guide/indexing.html#returning-a-view-versus-a-copy\n",
      "  self[k1] = value[k2]\n"
     ]
    }
   ],
   "source": [
    "df = conversion(df)"
   ]
  },
  {
   "cell_type": "code",
   "execution_count": 29,
   "metadata": {},
   "outputs": [
    {
     "data": {
      "text/plain": [
       "code                                                    string\n",
       "created_datetime                           datetime64[ns, UTC]\n",
       "last_modified_datetime                     datetime64[ns, UTC]\n",
       "product_name                                            string\n",
       "countries                                               string\n",
       "nutrition_grade_fr                                      string\n",
       "additives_n                                            float64\n",
       "ingredients_from_palm_oil_n                            float64\n",
       "ingredients_that_may_be_from_palm_oil_n                float64\n",
       "energy_100g                                            float64\n",
       "fat_100g                                               float64\n",
       "saturated-fat_100g                                     float64\n",
       "carbohydrates_100g                                     float64\n",
       "sugars_100g                                            float64\n",
       "fiber_100g                                             float64\n",
       "proteins_100g                                          float64\n",
       "salt_100g                                              float64\n",
       "sodium_100g                                            float64\n",
       "nutrition-score-fr_100g                                float64\n",
       "nutrition-score-uk_100g                                float64\n",
       "dtype: object"
      ]
     },
     "execution_count": 29,
     "metadata": {},
     "output_type": "execute_result"
    }
   ],
   "source": [
    "df.dtypes"
   ]
  },
  {
   "cell_type": "markdown",
   "metadata": {},
   "source": [
    "## 5. Gérer les valeurs abérantes et atypiques"
   ]
  },
  {
   "cell_type": "code",
   "execution_count": 30,
   "metadata": {
    "scrolled": true
   },
   "outputs": [
    {
     "name": "stderr",
     "output_type": "stream",
     "text": [
      "C:\\Users\\cisso\\anaconda3\\lib\\site-packages\\pandas\\core\\frame.py:5039: SettingWithCopyWarning: \n",
      "A value is trying to be set on a copy of a slice from a DataFrame\n",
      "\n",
      "See the caveats in the documentation: https://pandas.pydata.org/pandas-docs/stable/user_guide/indexing.html#returning-a-view-versus-a-copy\n",
      "  return super().rename(\n"
     ]
    },
    {
     "data": {
      "text/html": [
       "<div>\n",
       "<style scoped>\n",
       "    .dataframe tbody tr th:only-of-type {\n",
       "        vertical-align: middle;\n",
       "    }\n",
       "\n",
       "    .dataframe tbody tr th {\n",
       "        vertical-align: top;\n",
       "    }\n",
       "\n",
       "    .dataframe thead th {\n",
       "        text-align: right;\n",
       "    }\n",
       "</style>\n",
       "<table border=\"1\" class=\"dataframe\">\n",
       "  <thead>\n",
       "    <tr style=\"text-align: right;\">\n",
       "      <th></th>\n",
       "      <th>code</th>\n",
       "      <th>created_datetime</th>\n",
       "      <th>last_modified_datetime</th>\n",
       "      <th>product_name</th>\n",
       "      <th>countries</th>\n",
       "      <th>nutrition_grade_fr</th>\n",
       "      <th>additives_n</th>\n",
       "      <th>palm_oil</th>\n",
       "      <th>maybe_palm_oil</th>\n",
       "      <th>energy</th>\n",
       "      <th>fat_100g</th>\n",
       "      <th>saturated-fat_100g</th>\n",
       "      <th>carbohydrates_100g</th>\n",
       "      <th>sugars_100g</th>\n",
       "      <th>fiber_100g</th>\n",
       "      <th>proteins_100g</th>\n",
       "      <th>salt_100g</th>\n",
       "      <th>sodium_100g</th>\n",
       "      <th>nutrition-score-fr</th>\n",
       "      <th>nutrition-score-uk</th>\n",
       "    </tr>\n",
       "  </thead>\n",
       "  <tbody>\n",
       "    <tr>\n",
       "      <th>0</th>\n",
       "      <td>0000000003087</td>\n",
       "      <td>2016-09-17 09:17:46+00:00</td>\n",
       "      <td>2016-09-17 09:18:13+00:00</td>\n",
       "      <td>Farine de blé noir</td>\n",
       "      <td>en:FR</td>\n",
       "      <td>&lt;NA&gt;</td>\n",
       "      <td>NaN</td>\n",
       "      <td>NaN</td>\n",
       "      <td>NaN</td>\n",
       "      <td>NaN</td>\n",
       "      <td>NaN</td>\n",
       "      <td>NaN</td>\n",
       "      <td>NaN</td>\n",
       "      <td>NaN</td>\n",
       "      <td>NaN</td>\n",
       "      <td>NaN</td>\n",
       "      <td>NaN</td>\n",
       "      <td>NaN</td>\n",
       "      <td>NaN</td>\n",
       "      <td>NaN</td>\n",
       "    </tr>\n",
       "    <tr>\n",
       "      <th>1</th>\n",
       "      <td>0000000004530</td>\n",
       "      <td>2017-03-09 14:32:37+00:00</td>\n",
       "      <td>2017-03-09 14:32:37+00:00</td>\n",
       "      <td>Banana Chips Sweetened (Whole)</td>\n",
       "      <td>US</td>\n",
       "      <td>d</td>\n",
       "      <td>0.0</td>\n",
       "      <td>0.0</td>\n",
       "      <td>0.0</td>\n",
       "      <td>2243.0</td>\n",
       "      <td>28.57</td>\n",
       "      <td>28.57</td>\n",
       "      <td>64.29</td>\n",
       "      <td>14.29</td>\n",
       "      <td>3.6</td>\n",
       "      <td>3.57</td>\n",
       "      <td>0.00000</td>\n",
       "      <td>0.000</td>\n",
       "      <td>14.0</td>\n",
       "      <td>14.0</td>\n",
       "    </tr>\n",
       "    <tr>\n",
       "      <th>2</th>\n",
       "      <td>0000000004559</td>\n",
       "      <td>2017-03-09 14:32:37+00:00</td>\n",
       "      <td>2017-03-09 14:32:37+00:00</td>\n",
       "      <td>Peanuts</td>\n",
       "      <td>US</td>\n",
       "      <td>b</td>\n",
       "      <td>0.0</td>\n",
       "      <td>0.0</td>\n",
       "      <td>0.0</td>\n",
       "      <td>1941.0</td>\n",
       "      <td>17.86</td>\n",
       "      <td>0.00</td>\n",
       "      <td>60.71</td>\n",
       "      <td>17.86</td>\n",
       "      <td>7.1</td>\n",
       "      <td>17.86</td>\n",
       "      <td>0.63500</td>\n",
       "      <td>0.250</td>\n",
       "      <td>0.0</td>\n",
       "      <td>0.0</td>\n",
       "    </tr>\n",
       "    <tr>\n",
       "      <th>3</th>\n",
       "      <td>0000000016087</td>\n",
       "      <td>2017-03-09 10:35:31+00:00</td>\n",
       "      <td>2017-03-09 10:35:31+00:00</td>\n",
       "      <td>Organic Salted Nut Mix</td>\n",
       "      <td>US</td>\n",
       "      <td>d</td>\n",
       "      <td>0.0</td>\n",
       "      <td>0.0</td>\n",
       "      <td>0.0</td>\n",
       "      <td>2540.0</td>\n",
       "      <td>57.14</td>\n",
       "      <td>5.36</td>\n",
       "      <td>17.86</td>\n",
       "      <td>3.57</td>\n",
       "      <td>7.1</td>\n",
       "      <td>17.86</td>\n",
       "      <td>1.22428</td>\n",
       "      <td>0.482</td>\n",
       "      <td>12.0</td>\n",
       "      <td>12.0</td>\n",
       "    </tr>\n",
       "    <tr>\n",
       "      <th>4</th>\n",
       "      <td>0000000016094</td>\n",
       "      <td>2017-03-09 10:34:13+00:00</td>\n",
       "      <td>2017-03-09 10:34:13+00:00</td>\n",
       "      <td>Organic Polenta</td>\n",
       "      <td>US</td>\n",
       "      <td>&lt;NA&gt;</td>\n",
       "      <td>0.0</td>\n",
       "      <td>0.0</td>\n",
       "      <td>0.0</td>\n",
       "      <td>1552.0</td>\n",
       "      <td>1.43</td>\n",
       "      <td>NaN</td>\n",
       "      <td>77.14</td>\n",
       "      <td>NaN</td>\n",
       "      <td>5.7</td>\n",
       "      <td>8.57</td>\n",
       "      <td>NaN</td>\n",
       "      <td>NaN</td>\n",
       "      <td>NaN</td>\n",
       "      <td>NaN</td>\n",
       "    </tr>\n",
       "  </tbody>\n",
       "</table>\n",
       "</div>"
      ],
      "text/plain": [
       "            code          created_datetime    last_modified_datetime  \\\n",
       "0  0000000003087 2016-09-17 09:17:46+00:00 2016-09-17 09:18:13+00:00   \n",
       "1  0000000004530 2017-03-09 14:32:37+00:00 2017-03-09 14:32:37+00:00   \n",
       "2  0000000004559 2017-03-09 14:32:37+00:00 2017-03-09 14:32:37+00:00   \n",
       "3  0000000016087 2017-03-09 10:35:31+00:00 2017-03-09 10:35:31+00:00   \n",
       "4  0000000016094 2017-03-09 10:34:13+00:00 2017-03-09 10:34:13+00:00   \n",
       "\n",
       "                     product_name countries nutrition_grade_fr  additives_n  \\\n",
       "0              Farine de blé noir     en:FR               <NA>          NaN   \n",
       "1  Banana Chips Sweetened (Whole)        US                  d          0.0   \n",
       "2                         Peanuts        US                  b          0.0   \n",
       "3          Organic Salted Nut Mix        US                  d          0.0   \n",
       "4                 Organic Polenta        US               <NA>          0.0   \n",
       "\n",
       "   palm_oil  maybe_palm_oil  energy  fat_100g  saturated-fat_100g  \\\n",
       "0       NaN             NaN     NaN       NaN                 NaN   \n",
       "1       0.0             0.0  2243.0     28.57               28.57   \n",
       "2       0.0             0.0  1941.0     17.86                0.00   \n",
       "3       0.0             0.0  2540.0     57.14                5.36   \n",
       "4       0.0             0.0  1552.0      1.43                 NaN   \n",
       "\n",
       "   carbohydrates_100g  sugars_100g  fiber_100g  proteins_100g  salt_100g  \\\n",
       "0                 NaN          NaN         NaN            NaN        NaN   \n",
       "1               64.29        14.29         3.6           3.57    0.00000   \n",
       "2               60.71        17.86         7.1          17.86    0.63500   \n",
       "3               17.86         3.57         7.1          17.86    1.22428   \n",
       "4               77.14          NaN         5.7           8.57        NaN   \n",
       "\n",
       "   sodium_100g  nutrition-score-fr  nutrition-score-uk  \n",
       "0          NaN                 NaN                 NaN  \n",
       "1        0.000                14.0                14.0  \n",
       "2        0.250                 0.0                 0.0  \n",
       "3        0.482                12.0                12.0  \n",
       "4          NaN                 NaN                 NaN  "
      ]
     },
     "execution_count": 30,
     "metadata": {},
     "output_type": "execute_result"
    }
   ],
   "source": [
    "df.rename(columns={'energy_100g': 'energy','ingredients_from_palm_oil_n': 'palm_oil', 'ingredients_that_may_be_from_palm_oil_n':'maybe_palm_oil', 'nutrition-score-fr_100g':'nutrition-score-fr', 'nutrition-score-uk_100g':'nutrition-score-uk'}, inplace=True)\n",
    "df.head()"
   ]
  },
  {
   "cell_type": "markdown",
   "metadata": {},
   "source": [
    "On met les valeurs supérieur à 100g et inférieur à 0 les ingrédients en valeur manquante.<br>\n",
    "Pour l'énergie, les valeurs doivent être comprise entre 0 et 3700"
   ]
  },
  {
   "cell_type": "code",
   "execution_count": 31,
   "metadata": {},
   "outputs": [],
   "source": [
    "def mask100(df):\n",
    "    \"\"\"\n",
    "    Entrée : DataFrame\n",
    "    Objectifs : On prend les colonnes qui terminent pas 100g et on transforme en NaN si la valeur est supérieur à 100\n",
    "    Sortie : DataFrame\n",
    "    \"\"\"\n",
    "    col = df[df.columns[pd.Series(df.columns).str.endswith('_100g')]]\n",
    "    df[col.columns] = df[col.columns].mask(col>100)\n",
    "    return df"
   ]
  },
  {
   "cell_type": "code",
   "execution_count": 32,
   "metadata": {},
   "outputs": [],
   "source": [
    "def maskneg(df):\n",
    "    \"\"\"\n",
    "    Entrée : DataFrame\n",
    "    Objectifs : On prend les colonnes qui terminent pas 100g et on transforme en NaN si la valeur est inférieur à 0\n",
    "    Sortie : DataFrame\n",
    "    \"\"\"\n",
    "    col = df[df.columns[pd.Series(df.columns).str.endswith('_100g')]]\n",
    "    df[col.columns] = df[col.columns].mask(col<0)\n",
    "    return df"
   ]
  },
  {
   "cell_type": "code",
   "execution_count": 33,
   "metadata": {},
   "outputs": [],
   "source": [
    "def maskener(data, col):\n",
    "    \"\"\"\n",
    "    Entrée : DataFrame et une colonne energy\n",
    "    Objectifs : Énergie, le maximum est 3700\n",
    "    Sortie : DataFrame\n",
    "    \"\"\"\n",
    "    data[col] = data[col].mask(data[col]>3700)\n",
    "    return df"
   ]
  },
  {
   "cell_type": "code",
   "execution_count": 34,
   "metadata": {},
   "outputs": [
    {
     "name": "stderr",
     "output_type": "stream",
     "text": [
      "C:\\Users\\cisso\\anaconda3\\lib\\site-packages\\pandas\\core\\frame.py:3641: SettingWithCopyWarning: \n",
      "A value is trying to be set on a copy of a slice from a DataFrame.\n",
      "Try using .loc[row_indexer,col_indexer] = value instead\n",
      "\n",
      "See the caveats in the documentation: https://pandas.pydata.org/pandas-docs/stable/user_guide/indexing.html#returning-a-view-versus-a-copy\n",
      "  self[k1] = value[k2]\n"
     ]
    }
   ],
   "source": [
    "df = mask100(df)"
   ]
  },
  {
   "cell_type": "code",
   "execution_count": 35,
   "metadata": {},
   "outputs": [],
   "source": [
    "df = maskneg(df)"
   ]
  },
  {
   "cell_type": "code",
   "execution_count": 36,
   "metadata": {},
   "outputs": [
    {
     "name": "stderr",
     "output_type": "stream",
     "text": [
      "C:\\Users\\cisso\\AppData\\Local\\Temp/ipykernel_21696/1775418262.py:7: SettingWithCopyWarning: \n",
      "A value is trying to be set on a copy of a slice from a DataFrame.\n",
      "Try using .loc[row_indexer,col_indexer] = value instead\n",
      "\n",
      "See the caveats in the documentation: https://pandas.pydata.org/pandas-docs/stable/user_guide/indexing.html#returning-a-view-versus-a-copy\n",
      "  data[col] = data[col].mask(data[col]>3700)\n"
     ]
    }
   ],
   "source": [
    "df = maskener(df,'energy')"
   ]
  },
  {
   "cell_type": "markdown",
   "metadata": {},
   "source": [
    "La quantité de graisse saturée doit être inférieur au gras. De même que le sucre par rapport au glucide et le sodium par rapport au sel "
   ]
  },
  {
   "cell_type": "code",
   "execution_count": 37,
   "metadata": {},
   "outputs": [],
   "source": [
    "def verif(data, col1, col2):\n",
    "    \"\"\"\n",
    "    Entrée : Dataframe, colonne à changer 1 et 2\n",
    "    Objectifs : Mettre à NaN la colonne 2 supérieur à la colonne 1\n",
    "    Sortie : Dataframe\n",
    "    \"\"\"\n",
    "    \n",
    "    data[col2] = data[col2].mask(data[col1] < data[col2])\n",
    "    return data"
   ]
  },
  {
   "cell_type": "code",
   "execution_count": 38,
   "metadata": {},
   "outputs": [
    {
     "name": "stderr",
     "output_type": "stream",
     "text": [
      "C:\\Users\\cisso\\AppData\\Local\\Temp/ipykernel_21696/356029479.py:8: SettingWithCopyWarning: \n",
      "A value is trying to be set on a copy of a slice from a DataFrame.\n",
      "Try using .loc[row_indexer,col_indexer] = value instead\n",
      "\n",
      "See the caveats in the documentation: https://pandas.pydata.org/pandas-docs/stable/user_guide/indexing.html#returning-a-view-versus-a-copy\n",
      "  data[col2] = data[col2].mask(data[col1] < data[col2])\n"
     ]
    },
    {
     "data": {
      "text/html": [
       "<div>\n",
       "<style scoped>\n",
       "    .dataframe tbody tr th:only-of-type {\n",
       "        vertical-align: middle;\n",
       "    }\n",
       "\n",
       "    .dataframe tbody tr th {\n",
       "        vertical-align: top;\n",
       "    }\n",
       "\n",
       "    .dataframe thead th {\n",
       "        text-align: right;\n",
       "    }\n",
       "</style>\n",
       "<table border=\"1\" class=\"dataframe\">\n",
       "  <thead>\n",
       "    <tr style=\"text-align: right;\">\n",
       "      <th></th>\n",
       "      <th>code</th>\n",
       "      <th>created_datetime</th>\n",
       "      <th>last_modified_datetime</th>\n",
       "      <th>product_name</th>\n",
       "      <th>countries</th>\n",
       "      <th>nutrition_grade_fr</th>\n",
       "      <th>additives_n</th>\n",
       "      <th>palm_oil</th>\n",
       "      <th>maybe_palm_oil</th>\n",
       "      <th>energy</th>\n",
       "      <th>fat_100g</th>\n",
       "      <th>saturated-fat_100g</th>\n",
       "      <th>carbohydrates_100g</th>\n",
       "      <th>sugars_100g</th>\n",
       "      <th>fiber_100g</th>\n",
       "      <th>proteins_100g</th>\n",
       "      <th>salt_100g</th>\n",
       "      <th>sodium_100g</th>\n",
       "      <th>nutrition-score-fr</th>\n",
       "      <th>nutrition-score-uk</th>\n",
       "    </tr>\n",
       "  </thead>\n",
       "  <tbody>\n",
       "    <tr>\n",
       "      <th>0</th>\n",
       "      <td>0000000003087</td>\n",
       "      <td>2016-09-17 09:17:46+00:00</td>\n",
       "      <td>2016-09-17 09:18:13+00:00</td>\n",
       "      <td>Farine de blé noir</td>\n",
       "      <td>en:FR</td>\n",
       "      <td>&lt;NA&gt;</td>\n",
       "      <td>NaN</td>\n",
       "      <td>NaN</td>\n",
       "      <td>NaN</td>\n",
       "      <td>NaN</td>\n",
       "      <td>NaN</td>\n",
       "      <td>NaN</td>\n",
       "      <td>NaN</td>\n",
       "      <td>NaN</td>\n",
       "      <td>NaN</td>\n",
       "      <td>NaN</td>\n",
       "      <td>NaN</td>\n",
       "      <td>NaN</td>\n",
       "      <td>NaN</td>\n",
       "      <td>NaN</td>\n",
       "    </tr>\n",
       "    <tr>\n",
       "      <th>1</th>\n",
       "      <td>0000000004530</td>\n",
       "      <td>2017-03-09 14:32:37+00:00</td>\n",
       "      <td>2017-03-09 14:32:37+00:00</td>\n",
       "      <td>Banana Chips Sweetened (Whole)</td>\n",
       "      <td>US</td>\n",
       "      <td>d</td>\n",
       "      <td>0.0</td>\n",
       "      <td>0.0</td>\n",
       "      <td>0.0</td>\n",
       "      <td>2243.0</td>\n",
       "      <td>28.57</td>\n",
       "      <td>28.57</td>\n",
       "      <td>64.29</td>\n",
       "      <td>14.29</td>\n",
       "      <td>3.6</td>\n",
       "      <td>3.57</td>\n",
       "      <td>0.00000</td>\n",
       "      <td>0.000</td>\n",
       "      <td>14.0</td>\n",
       "      <td>14.0</td>\n",
       "    </tr>\n",
       "    <tr>\n",
       "      <th>2</th>\n",
       "      <td>0000000004559</td>\n",
       "      <td>2017-03-09 14:32:37+00:00</td>\n",
       "      <td>2017-03-09 14:32:37+00:00</td>\n",
       "      <td>Peanuts</td>\n",
       "      <td>US</td>\n",
       "      <td>b</td>\n",
       "      <td>0.0</td>\n",
       "      <td>0.0</td>\n",
       "      <td>0.0</td>\n",
       "      <td>1941.0</td>\n",
       "      <td>17.86</td>\n",
       "      <td>0.00</td>\n",
       "      <td>60.71</td>\n",
       "      <td>17.86</td>\n",
       "      <td>7.1</td>\n",
       "      <td>17.86</td>\n",
       "      <td>0.63500</td>\n",
       "      <td>0.250</td>\n",
       "      <td>0.0</td>\n",
       "      <td>0.0</td>\n",
       "    </tr>\n",
       "    <tr>\n",
       "      <th>3</th>\n",
       "      <td>0000000016087</td>\n",
       "      <td>2017-03-09 10:35:31+00:00</td>\n",
       "      <td>2017-03-09 10:35:31+00:00</td>\n",
       "      <td>Organic Salted Nut Mix</td>\n",
       "      <td>US</td>\n",
       "      <td>d</td>\n",
       "      <td>0.0</td>\n",
       "      <td>0.0</td>\n",
       "      <td>0.0</td>\n",
       "      <td>2540.0</td>\n",
       "      <td>57.14</td>\n",
       "      <td>5.36</td>\n",
       "      <td>17.86</td>\n",
       "      <td>3.57</td>\n",
       "      <td>7.1</td>\n",
       "      <td>17.86</td>\n",
       "      <td>1.22428</td>\n",
       "      <td>0.482</td>\n",
       "      <td>12.0</td>\n",
       "      <td>12.0</td>\n",
       "    </tr>\n",
       "    <tr>\n",
       "      <th>4</th>\n",
       "      <td>0000000016094</td>\n",
       "      <td>2017-03-09 10:34:13+00:00</td>\n",
       "      <td>2017-03-09 10:34:13+00:00</td>\n",
       "      <td>Organic Polenta</td>\n",
       "      <td>US</td>\n",
       "      <td>&lt;NA&gt;</td>\n",
       "      <td>0.0</td>\n",
       "      <td>0.0</td>\n",
       "      <td>0.0</td>\n",
       "      <td>1552.0</td>\n",
       "      <td>1.43</td>\n",
       "      <td>NaN</td>\n",
       "      <td>77.14</td>\n",
       "      <td>NaN</td>\n",
       "      <td>5.7</td>\n",
       "      <td>8.57</td>\n",
       "      <td>NaN</td>\n",
       "      <td>NaN</td>\n",
       "      <td>NaN</td>\n",
       "      <td>NaN</td>\n",
       "    </tr>\n",
       "    <tr>\n",
       "      <th>...</th>\n",
       "      <td>...</td>\n",
       "      <td>...</td>\n",
       "      <td>...</td>\n",
       "      <td>...</td>\n",
       "      <td>...</td>\n",
       "      <td>...</td>\n",
       "      <td>...</td>\n",
       "      <td>...</td>\n",
       "      <td>...</td>\n",
       "      <td>...</td>\n",
       "      <td>...</td>\n",
       "      <td>...</td>\n",
       "      <td>...</td>\n",
       "      <td>...</td>\n",
       "      <td>...</td>\n",
       "      <td>...</td>\n",
       "      <td>...</td>\n",
       "      <td>...</td>\n",
       "      <td>...</td>\n",
       "      <td>...</td>\n",
       "    </tr>\n",
       "    <tr>\n",
       "      <th>320767</th>\n",
       "      <td>9948282780603</td>\n",
       "      <td>2017-03-27 16:14:59+00:00</td>\n",
       "      <td>2017-04-03 18:34:58+00:00</td>\n",
       "      <td>Tomato &amp; ricotta</td>\n",
       "      <td>en:RO</td>\n",
       "      <td>&lt;NA&gt;</td>\n",
       "      <td>NaN</td>\n",
       "      <td>NaN</td>\n",
       "      <td>NaN</td>\n",
       "      <td>NaN</td>\n",
       "      <td>NaN</td>\n",
       "      <td>NaN</td>\n",
       "      <td>NaN</td>\n",
       "      <td>NaN</td>\n",
       "      <td>NaN</td>\n",
       "      <td>NaN</td>\n",
       "      <td>NaN</td>\n",
       "      <td>NaN</td>\n",
       "      <td>NaN</td>\n",
       "      <td>NaN</td>\n",
       "    </tr>\n",
       "    <tr>\n",
       "      <th>320768</th>\n",
       "      <td>99567453</td>\n",
       "      <td>2017-03-09 11:31:16+00:00</td>\n",
       "      <td>2017-04-03 18:34:59+00:00</td>\n",
       "      <td>Mint Melange Tea A Blend Of Peppermint, Lemon ...</td>\n",
       "      <td>US</td>\n",
       "      <td>b</td>\n",
       "      <td>0.0</td>\n",
       "      <td>0.0</td>\n",
       "      <td>0.0</td>\n",
       "      <td>0.0</td>\n",
       "      <td>0.00</td>\n",
       "      <td>0.00</td>\n",
       "      <td>0.00</td>\n",
       "      <td>0.00</td>\n",
       "      <td>0.0</td>\n",
       "      <td>0.00</td>\n",
       "      <td>0.00000</td>\n",
       "      <td>0.000</td>\n",
       "      <td>0.0</td>\n",
       "      <td>0.0</td>\n",
       "    </tr>\n",
       "    <tr>\n",
       "      <th>320769</th>\n",
       "      <td>9970229501521</td>\n",
       "      <td>2015-01-24 11:36:17+00:00</td>\n",
       "      <td>2017-04-03 18:34:59+00:00</td>\n",
       "      <td>乐吧泡菜味薯片</td>\n",
       "      <td>China</td>\n",
       "      <td>&lt;NA&gt;</td>\n",
       "      <td>NaN</td>\n",
       "      <td>NaN</td>\n",
       "      <td>NaN</td>\n",
       "      <td>NaN</td>\n",
       "      <td>NaN</td>\n",
       "      <td>NaN</td>\n",
       "      <td>NaN</td>\n",
       "      <td>NaN</td>\n",
       "      <td>NaN</td>\n",
       "      <td>NaN</td>\n",
       "      <td>NaN</td>\n",
       "      <td>NaN</td>\n",
       "      <td>NaN</td>\n",
       "      <td>NaN</td>\n",
       "    </tr>\n",
       "    <tr>\n",
       "      <th>320770</th>\n",
       "      <td>9980282863788</td>\n",
       "      <td>2017-04-16 10:54:49+00:00</td>\n",
       "      <td>2017-04-16 10:54:49+00:00</td>\n",
       "      <td>Tomates aux Vermicelles</td>\n",
       "      <td>en:FR</td>\n",
       "      <td>&lt;NA&gt;</td>\n",
       "      <td>NaN</td>\n",
       "      <td>NaN</td>\n",
       "      <td>NaN</td>\n",
       "      <td>NaN</td>\n",
       "      <td>NaN</td>\n",
       "      <td>NaN</td>\n",
       "      <td>NaN</td>\n",
       "      <td>NaN</td>\n",
       "      <td>NaN</td>\n",
       "      <td>NaN</td>\n",
       "      <td>NaN</td>\n",
       "      <td>NaN</td>\n",
       "      <td>NaN</td>\n",
       "      <td>NaN</td>\n",
       "    </tr>\n",
       "    <tr>\n",
       "      <th>320771</th>\n",
       "      <td>999990026839</td>\n",
       "      <td>2017-03-09 15:18:29+00:00</td>\n",
       "      <td>2017-04-03 18:34:59+00:00</td>\n",
       "      <td>Sugar Free Drink Mix, Peach Tea</td>\n",
       "      <td>US</td>\n",
       "      <td>&lt;NA&gt;</td>\n",
       "      <td>7.0</td>\n",
       "      <td>0.0</td>\n",
       "      <td>0.0</td>\n",
       "      <td>2092.0</td>\n",
       "      <td>0.00</td>\n",
       "      <td>NaN</td>\n",
       "      <td>0.00</td>\n",
       "      <td>0.00</td>\n",
       "      <td>NaN</td>\n",
       "      <td>0.00</td>\n",
       "      <td>0.00000</td>\n",
       "      <td>0.000</td>\n",
       "      <td>NaN</td>\n",
       "      <td>NaN</td>\n",
       "    </tr>\n",
       "  </tbody>\n",
       "</table>\n",
       "<p>320772 rows × 20 columns</p>\n",
       "</div>"
      ],
      "text/plain": [
       "                 code          created_datetime    last_modified_datetime  \\\n",
       "0       0000000003087 2016-09-17 09:17:46+00:00 2016-09-17 09:18:13+00:00   \n",
       "1       0000000004530 2017-03-09 14:32:37+00:00 2017-03-09 14:32:37+00:00   \n",
       "2       0000000004559 2017-03-09 14:32:37+00:00 2017-03-09 14:32:37+00:00   \n",
       "3       0000000016087 2017-03-09 10:35:31+00:00 2017-03-09 10:35:31+00:00   \n",
       "4       0000000016094 2017-03-09 10:34:13+00:00 2017-03-09 10:34:13+00:00   \n",
       "...               ...                       ...                       ...   \n",
       "320767  9948282780603 2017-03-27 16:14:59+00:00 2017-04-03 18:34:58+00:00   \n",
       "320768       99567453 2017-03-09 11:31:16+00:00 2017-04-03 18:34:59+00:00   \n",
       "320769  9970229501521 2015-01-24 11:36:17+00:00 2017-04-03 18:34:59+00:00   \n",
       "320770  9980282863788 2017-04-16 10:54:49+00:00 2017-04-16 10:54:49+00:00   \n",
       "320771   999990026839 2017-03-09 15:18:29+00:00 2017-04-03 18:34:59+00:00   \n",
       "\n",
       "                                             product_name countries  \\\n",
       "0                                      Farine de blé noir     en:FR   \n",
       "1                          Banana Chips Sweetened (Whole)        US   \n",
       "2                                                 Peanuts        US   \n",
       "3                                  Organic Salted Nut Mix        US   \n",
       "4                                         Organic Polenta        US   \n",
       "...                                                   ...       ...   \n",
       "320767                                  Tomato & ricotta      en:RO   \n",
       "320768  Mint Melange Tea A Blend Of Peppermint, Lemon ...        US   \n",
       "320769                                            乐吧泡菜味薯片     China   \n",
       "320770                           Tomates aux Vermicelles      en:FR   \n",
       "320771                    Sugar Free Drink Mix, Peach Tea        US   \n",
       "\n",
       "       nutrition_grade_fr  additives_n  palm_oil  maybe_palm_oil  energy  \\\n",
       "0                    <NA>          NaN       NaN             NaN     NaN   \n",
       "1                       d          0.0       0.0             0.0  2243.0   \n",
       "2                       b          0.0       0.0             0.0  1941.0   \n",
       "3                       d          0.0       0.0             0.0  2540.0   \n",
       "4                    <NA>          0.0       0.0             0.0  1552.0   \n",
       "...                   ...          ...       ...             ...     ...   \n",
       "320767               <NA>          NaN       NaN             NaN     NaN   \n",
       "320768                  b          0.0       0.0             0.0     0.0   \n",
       "320769               <NA>          NaN       NaN             NaN     NaN   \n",
       "320770               <NA>          NaN       NaN             NaN     NaN   \n",
       "320771               <NA>          7.0       0.0             0.0  2092.0   \n",
       "\n",
       "        fat_100g  saturated-fat_100g  carbohydrates_100g  sugars_100g  \\\n",
       "0            NaN                 NaN                 NaN          NaN   \n",
       "1          28.57               28.57               64.29        14.29   \n",
       "2          17.86                0.00               60.71        17.86   \n",
       "3          57.14                5.36               17.86         3.57   \n",
       "4           1.43                 NaN               77.14          NaN   \n",
       "...          ...                 ...                 ...          ...   \n",
       "320767       NaN                 NaN                 NaN          NaN   \n",
       "320768      0.00                0.00                0.00         0.00   \n",
       "320769       NaN                 NaN                 NaN          NaN   \n",
       "320770       NaN                 NaN                 NaN          NaN   \n",
       "320771      0.00                 NaN                0.00         0.00   \n",
       "\n",
       "        fiber_100g  proteins_100g  salt_100g  sodium_100g  nutrition-score-fr  \\\n",
       "0              NaN            NaN        NaN          NaN                 NaN   \n",
       "1              3.6           3.57    0.00000        0.000                14.0   \n",
       "2              7.1          17.86    0.63500        0.250                 0.0   \n",
       "3              7.1          17.86    1.22428        0.482                12.0   \n",
       "4              5.7           8.57        NaN          NaN                 NaN   \n",
       "...            ...            ...        ...          ...                 ...   \n",
       "320767         NaN            NaN        NaN          NaN                 NaN   \n",
       "320768         0.0           0.00    0.00000        0.000                 0.0   \n",
       "320769         NaN            NaN        NaN          NaN                 NaN   \n",
       "320770         NaN            NaN        NaN          NaN                 NaN   \n",
       "320771         NaN           0.00    0.00000        0.000                 NaN   \n",
       "\n",
       "        nutrition-score-uk  \n",
       "0                      NaN  \n",
       "1                     14.0  \n",
       "2                      0.0  \n",
       "3                     12.0  \n",
       "4                      NaN  \n",
       "...                    ...  \n",
       "320767                 NaN  \n",
       "320768                 0.0  \n",
       "320769                 NaN  \n",
       "320770                 NaN  \n",
       "320771                 NaN  \n",
       "\n",
       "[320772 rows x 20 columns]"
      ]
     },
     "execution_count": 38,
     "metadata": {},
     "output_type": "execute_result"
    }
   ],
   "source": [
    "verif(df, 'fat_100g', 'saturated-fat_100g')\n",
    "verif(df, 'carbohydrates_100g', 'sugars_100g')\n",
    "verif(df, 'salt_100g', 'sodium_100g')"
   ]
  },
  {
   "cell_type": "code",
   "execution_count": 39,
   "metadata": {},
   "outputs": [
    {
     "data": {
      "image/png": "[encoded data removed]",
      "text/plain": [
       "<Figure size 720x360 with 1 Axes>"
      ]
     },
     "metadata": {
      "needs_background": "light"
     },
     "output_type": "display_data"
    }
   ],
   "source": [
    "plt.rcParams[\"figure.figsize\"] = (10,5)\n",
    "graphRemplissage(df)"
   ]
  },
  {
   "cell_type": "code",
   "execution_count": 40,
   "metadata": {},
   "outputs": [
    {
     "name": "stderr",
     "output_type": "stream",
     "text": [
      "C:\\Users\\cisso\\anaconda3\\lib\\site-packages\\pandas\\core\\frame.py:5039: SettingWithCopyWarning: \n",
      "A value is trying to be set on a copy of a slice from a DataFrame\n",
      "\n",
      "See the caveats in the documentation: https://pandas.pydata.org/pandas-docs/stable/user_guide/indexing.html#returning-a-view-versus-a-copy\n",
      "  return super().rename(\n"
     ]
    },
    {
     "data": {
      "text/html": [
       "<div>\n",
       "<style scoped>\n",
       "    .dataframe tbody tr th:only-of-type {\n",
       "        vertical-align: middle;\n",
       "    }\n",
       "\n",
       "    .dataframe tbody tr th {\n",
       "        vertical-align: top;\n",
       "    }\n",
       "\n",
       "    .dataframe thead th {\n",
       "        text-align: right;\n",
       "    }\n",
       "</style>\n",
       "<table border=\"1\" class=\"dataframe\">\n",
       "  <thead>\n",
       "    <tr style=\"text-align: right;\">\n",
       "      <th></th>\n",
       "      <th>code</th>\n",
       "      <th>created_datetime</th>\n",
       "      <th>last_modified_datetime</th>\n",
       "      <th>product_name</th>\n",
       "      <th>countries</th>\n",
       "      <th>nutrition_grade_fr</th>\n",
       "      <th>additives_n</th>\n",
       "      <th>palm_oil</th>\n",
       "      <th>maybe_palm_oil</th>\n",
       "      <th>energy</th>\n",
       "      <th>fat_100g</th>\n",
       "      <th>saturated-fat</th>\n",
       "      <th>carbohydrates_100g</th>\n",
       "      <th>sugars</th>\n",
       "      <th>fiber_100g</th>\n",
       "      <th>proteins_100g</th>\n",
       "      <th>salt_100g</th>\n",
       "      <th>sodium</th>\n",
       "      <th>nutrition-score-fr</th>\n",
       "      <th>nutrition-score-uk</th>\n",
       "    </tr>\n",
       "  </thead>\n",
       "  <tbody>\n",
       "    <tr>\n",
       "      <th>0</th>\n",
       "      <td>0000000003087</td>\n",
       "      <td>2016-09-17 09:17:46+00:00</td>\n",
       "      <td>2016-09-17 09:18:13+00:00</td>\n",
       "      <td>Farine de blé noir</td>\n",
       "      <td>en:FR</td>\n",
       "      <td>&lt;NA&gt;</td>\n",
       "      <td>NaN</td>\n",
       "      <td>NaN</td>\n",
       "      <td>NaN</td>\n",
       "      <td>NaN</td>\n",
       "      <td>NaN</td>\n",
       "      <td>NaN</td>\n",
       "      <td>NaN</td>\n",
       "      <td>NaN</td>\n",
       "      <td>NaN</td>\n",
       "      <td>NaN</td>\n",
       "      <td>NaN</td>\n",
       "      <td>NaN</td>\n",
       "      <td>NaN</td>\n",
       "      <td>NaN</td>\n",
       "    </tr>\n",
       "    <tr>\n",
       "      <th>1</th>\n",
       "      <td>0000000004530</td>\n",
       "      <td>2017-03-09 14:32:37+00:00</td>\n",
       "      <td>2017-03-09 14:32:37+00:00</td>\n",
       "      <td>Banana Chips Sweetened (Whole)</td>\n",
       "      <td>US</td>\n",
       "      <td>d</td>\n",
       "      <td>0.0</td>\n",
       "      <td>0.0</td>\n",
       "      <td>0.0</td>\n",
       "      <td>2243.0</td>\n",
       "      <td>28.57</td>\n",
       "      <td>28.57</td>\n",
       "      <td>64.29</td>\n",
       "      <td>14.29</td>\n",
       "      <td>3.6</td>\n",
       "      <td>3.57</td>\n",
       "      <td>0.00000</td>\n",
       "      <td>0.000</td>\n",
       "      <td>14.0</td>\n",
       "      <td>14.0</td>\n",
       "    </tr>\n",
       "    <tr>\n",
       "      <th>2</th>\n",
       "      <td>0000000004559</td>\n",
       "      <td>2017-03-09 14:32:37+00:00</td>\n",
       "      <td>2017-03-09 14:32:37+00:00</td>\n",
       "      <td>Peanuts</td>\n",
       "      <td>US</td>\n",
       "      <td>b</td>\n",
       "      <td>0.0</td>\n",
       "      <td>0.0</td>\n",
       "      <td>0.0</td>\n",
       "      <td>1941.0</td>\n",
       "      <td>17.86</td>\n",
       "      <td>0.00</td>\n",
       "      <td>60.71</td>\n",
       "      <td>17.86</td>\n",
       "      <td>7.1</td>\n",
       "      <td>17.86</td>\n",
       "      <td>0.63500</td>\n",
       "      <td>0.250</td>\n",
       "      <td>0.0</td>\n",
       "      <td>0.0</td>\n",
       "    </tr>\n",
       "    <tr>\n",
       "      <th>3</th>\n",
       "      <td>0000000016087</td>\n",
       "      <td>2017-03-09 10:35:31+00:00</td>\n",
       "      <td>2017-03-09 10:35:31+00:00</td>\n",
       "      <td>Organic Salted Nut Mix</td>\n",
       "      <td>US</td>\n",
       "      <td>d</td>\n",
       "      <td>0.0</td>\n",
       "      <td>0.0</td>\n",
       "      <td>0.0</td>\n",
       "      <td>2540.0</td>\n",
       "      <td>57.14</td>\n",
       "      <td>5.36</td>\n",
       "      <td>17.86</td>\n",
       "      <td>3.57</td>\n",
       "      <td>7.1</td>\n",
       "      <td>17.86</td>\n",
       "      <td>1.22428</td>\n",
       "      <td>0.482</td>\n",
       "      <td>12.0</td>\n",
       "      <td>12.0</td>\n",
       "    </tr>\n",
       "    <tr>\n",
       "      <th>4</th>\n",
       "      <td>0000000016094</td>\n",
       "      <td>2017-03-09 10:34:13+00:00</td>\n",
       "      <td>2017-03-09 10:34:13+00:00</td>\n",
       "      <td>Organic Polenta</td>\n",
       "      <td>US</td>\n",
       "      <td>&lt;NA&gt;</td>\n",
       "      <td>0.0</td>\n",
       "      <td>0.0</td>\n",
       "      <td>0.0</td>\n",
       "      <td>1552.0</td>\n",
       "      <td>1.43</td>\n",
       "      <td>NaN</td>\n",
       "      <td>77.14</td>\n",
       "      <td>NaN</td>\n",
       "      <td>5.7</td>\n",
       "      <td>8.57</td>\n",
       "      <td>NaN</td>\n",
       "      <td>NaN</td>\n",
       "      <td>NaN</td>\n",
       "      <td>NaN</td>\n",
       "    </tr>\n",
       "  </tbody>\n",
       "</table>\n",
       "</div>"
      ],
      "text/plain": [
       "            code          created_datetime    last_modified_datetime  \\\n",
       "0  0000000003087 2016-09-17 09:17:46+00:00 2016-09-17 09:18:13+00:00   \n",
       "1  0000000004530 2017-03-09 14:32:37+00:00 2017-03-09 14:32:37+00:00   \n",
       "2  0000000004559 2017-03-09 14:32:37+00:00 2017-03-09 14:32:37+00:00   \n",
       "3  0000000016087 2017-03-09 10:35:31+00:00 2017-03-09 10:35:31+00:00   \n",
       "4  0000000016094 2017-03-09 10:34:13+00:00 2017-03-09 10:34:13+00:00   \n",
       "\n",
       "                     product_name countries nutrition_grade_fr  additives_n  \\\n",
       "0              Farine de blé noir     en:FR               <NA>          NaN   \n",
       "1  Banana Chips Sweetened (Whole)        US                  d          0.0   \n",
       "2                         Peanuts        US                  b          0.0   \n",
       "3          Organic Salted Nut Mix        US                  d          0.0   \n",
       "4                 Organic Polenta        US               <NA>          0.0   \n",
       "\n",
       "   palm_oil  maybe_palm_oil  energy  fat_100g  saturated-fat  \\\n",
       "0       NaN             NaN     NaN       NaN            NaN   \n",
       "1       0.0             0.0  2243.0     28.57          28.57   \n",
       "2       0.0             0.0  1941.0     17.86           0.00   \n",
       "3       0.0             0.0  2540.0     57.14           5.36   \n",
       "4       0.0             0.0  1552.0      1.43            NaN   \n",
       "\n",
       "   carbohydrates_100g  sugars  fiber_100g  proteins_100g  salt_100g  sodium  \\\n",
       "0                 NaN     NaN         NaN            NaN        NaN     NaN   \n",
       "1               64.29   14.29         3.6           3.57    0.00000   0.000   \n",
       "2               60.71   17.86         7.1          17.86    0.63500   0.250   \n",
       "3               17.86    3.57         7.1          17.86    1.22428   0.482   \n",
       "4               77.14     NaN         5.7           8.57        NaN     NaN   \n",
       "\n",
       "   nutrition-score-fr  nutrition-score-uk  \n",
       "0                 NaN                 NaN  \n",
       "1                14.0                14.0  \n",
       "2                 0.0                 0.0  \n",
       "3                12.0                12.0  \n",
       "4                 NaN                 NaN  "
      ]
     },
     "execution_count": 40,
     "metadata": {},
     "output_type": "execute_result"
    }
   ],
   "source": [
    "df.rename(columns={'saturated-fat_100g': 'saturated-fat', 'sugars_100g': 'sugars', 'sodium_100g':'sodium'}, inplace=True)\n",
    "df.head()"
   ]
  },
  {
   "cell_type": "markdown",
   "metadata": {},
   "source": [
    "## 6. Gérer les valeurs manquantes"
   ]
  },
  {
   "cell_type": "markdown",
   "metadata": {},
   "source": [
    "### 1. Écarter les sommes égal à zéro"
   ]
  },
  {
   "cell_type": "code",
   "execution_count": 41,
   "metadata": {},
   "outputs": [],
   "source": [
    "def somme(df):\n",
    "    \"\"\"\n",
    "    Entrée : DataFrame\n",
    "    Objectifs : Calcul des lignes\n",
    "    Sortie : Somme des lignes\n",
    "    \"\"\"\n",
    "    col = df[df.columns[pd.Series(df.columns).str.endswith('_100g')]]\n",
    "    return col.sum(axis = 1)"
   ]
  },
  {
   "cell_type": "code",
   "execution_count": 42,
   "metadata": {},
   "outputs": [],
   "source": [
    "def sommeNul(df):\n",
    "    \"\"\"\n",
    "    Entrée : DataFrame\n",
    "    Objectifs : Calculer la somme des lignes et écarter si elles sont nulles\n",
    "    Sortie : Somme sur les lignes\n",
    "    \"\"\"\n",
    "    \n",
    "    somme = df.loc[:,'additives_n':'nutrition-score-fr'].sum(axis = 1)\n",
    "    return somme"
   ]
  },
  {
   "cell_type": "code",
   "execution_count": 43,
   "metadata": {},
   "outputs": [],
   "source": [
    "val = sommeNul(df) != 0\n",
    "number = np.where(val)\n",
    "df1 = df.iloc[number].copy()"
   ]
  },
  {
   "cell_type": "markdown",
   "metadata": {},
   "source": [
    "### 2. Valeurs supérieur à 100"
   ]
  },
  {
   "cell_type": "code",
   "execution_count": 44,
   "metadata": {},
   "outputs": [
    {
     "data": {
      "text/html": [
       "<div>\n",
       "<style scoped>\n",
       "    .dataframe tbody tr th:only-of-type {\n",
       "        vertical-align: middle;\n",
       "    }\n",
       "\n",
       "    .dataframe tbody tr th {\n",
       "        vertical-align: top;\n",
       "    }\n",
       "\n",
       "    .dataframe thead th {\n",
       "        text-align: right;\n",
       "    }\n",
       "</style>\n",
       "<table border=\"1\" class=\"dataframe\">\n",
       "  <thead>\n",
       "    <tr style=\"text-align: right;\">\n",
       "      <th></th>\n",
       "      <th>code</th>\n",
       "      <th>created_datetime</th>\n",
       "      <th>last_modified_datetime</th>\n",
       "      <th>product_name</th>\n",
       "      <th>countries</th>\n",
       "      <th>nutrition_grade_fr</th>\n",
       "      <th>additives_n</th>\n",
       "      <th>palm_oil</th>\n",
       "      <th>maybe_palm_oil</th>\n",
       "      <th>energy</th>\n",
       "      <th>fat_100g</th>\n",
       "      <th>saturated-fat</th>\n",
       "      <th>carbohydrates_100g</th>\n",
       "      <th>sugars</th>\n",
       "      <th>fiber_100g</th>\n",
       "      <th>proteins_100g</th>\n",
       "      <th>salt_100g</th>\n",
       "      <th>sodium</th>\n",
       "      <th>nutrition-score-fr</th>\n",
       "      <th>nutrition-score-uk</th>\n",
       "    </tr>\n",
       "  </thead>\n",
       "  <tbody>\n",
       "    <tr>\n",
       "      <th>4</th>\n",
       "      <td>0000000016094</td>\n",
       "      <td>2017-03-09 10:34:13+00:00</td>\n",
       "      <td>2017-03-09 10:34:13+00:00</td>\n",
       "      <td>Organic Polenta</td>\n",
       "      <td>US</td>\n",
       "      <td>&lt;NA&gt;</td>\n",
       "      <td>0.0</td>\n",
       "      <td>0.0</td>\n",
       "      <td>0.0</td>\n",
       "      <td>1552.0</td>\n",
       "      <td>1.43</td>\n",
       "      <td>NaN</td>\n",
       "      <td>77.14</td>\n",
       "      <td>NaN</td>\n",
       "      <td>5.7</td>\n",
       "      <td>8.57</td>\n",
       "      <td>NaN</td>\n",
       "      <td>NaN</td>\n",
       "      <td>NaN</td>\n",
       "      <td>NaN</td>\n",
       "    </tr>\n",
       "    <tr>\n",
       "      <th>6</th>\n",
       "      <td>0000000016117</td>\n",
       "      <td>2017-03-09 10:35:30+00:00</td>\n",
       "      <td>2017-03-09 10:35:30+00:00</td>\n",
       "      <td>Organic Long Grain White Rice</td>\n",
       "      <td>US</td>\n",
       "      <td>&lt;NA&gt;</td>\n",
       "      <td>0.0</td>\n",
       "      <td>0.0</td>\n",
       "      <td>0.0</td>\n",
       "      <td>1490.0</td>\n",
       "      <td>NaN</td>\n",
       "      <td>NaN</td>\n",
       "      <td>80.00</td>\n",
       "      <td>NaN</td>\n",
       "      <td>NaN</td>\n",
       "      <td>8.89</td>\n",
       "      <td>NaN</td>\n",
       "      <td>NaN</td>\n",
       "      <td>NaN</td>\n",
       "      <td>NaN</td>\n",
       "    </tr>\n",
       "    <tr>\n",
       "      <th>9</th>\n",
       "      <td>0000000016513</td>\n",
       "      <td>2017-03-09 10:34:14+00:00</td>\n",
       "      <td>2017-03-09 10:34:14+00:00</td>\n",
       "      <td>Organic Sunflower Oil</td>\n",
       "      <td>US</td>\n",
       "      <td>&lt;NA&gt;</td>\n",
       "      <td>0.0</td>\n",
       "      <td>0.0</td>\n",
       "      <td>0.0</td>\n",
       "      <td>3586.0</td>\n",
       "      <td>100.00</td>\n",
       "      <td>7.14</td>\n",
       "      <td>NaN</td>\n",
       "      <td>NaN</td>\n",
       "      <td>NaN</td>\n",
       "      <td>NaN</td>\n",
       "      <td>NaN</td>\n",
       "      <td>NaN</td>\n",
       "      <td>NaN</td>\n",
       "      <td>NaN</td>\n",
       "    </tr>\n",
       "    <tr>\n",
       "      <th>10</th>\n",
       "      <td>0000000016612</td>\n",
       "      <td>2017-03-09 10:35:31+00:00</td>\n",
       "      <td>2017-03-09 10:35:31+00:00</td>\n",
       "      <td>Organic Adzuki Beans</td>\n",
       "      <td>US</td>\n",
       "      <td>&lt;NA&gt;</td>\n",
       "      <td>0.0</td>\n",
       "      <td>0.0</td>\n",
       "      <td>0.0</td>\n",
       "      <td>1393.0</td>\n",
       "      <td>1.04</td>\n",
       "      <td>NaN</td>\n",
       "      <td>62.50</td>\n",
       "      <td>NaN</td>\n",
       "      <td>12.5</td>\n",
       "      <td>22.92</td>\n",
       "      <td>NaN</td>\n",
       "      <td>NaN</td>\n",
       "      <td>NaN</td>\n",
       "      <td>NaN</td>\n",
       "    </tr>\n",
       "    <tr>\n",
       "      <th>11</th>\n",
       "      <td>0000000016650</td>\n",
       "      <td>2017-03-09 10:34:28+00:00</td>\n",
       "      <td>2017-03-09 10:34:28+00:00</td>\n",
       "      <td>Organic Penne Pasta</td>\n",
       "      <td>US</td>\n",
       "      <td>&lt;NA&gt;</td>\n",
       "      <td>0.0</td>\n",
       "      <td>0.0</td>\n",
       "      <td>0.0</td>\n",
       "      <td>1540.0</td>\n",
       "      <td>1.75</td>\n",
       "      <td>NaN</td>\n",
       "      <td>73.68</td>\n",
       "      <td>NaN</td>\n",
       "      <td>1.8</td>\n",
       "      <td>14.04</td>\n",
       "      <td>NaN</td>\n",
       "      <td>NaN</td>\n",
       "      <td>NaN</td>\n",
       "      <td>NaN</td>\n",
       "    </tr>\n",
       "  </tbody>\n",
       "</table>\n",
       "</div>"
      ],
      "text/plain": [
       "             code          created_datetime    last_modified_datetime  \\\n",
       "4   0000000016094 2017-03-09 10:34:13+00:00 2017-03-09 10:34:13+00:00   \n",
       "6   0000000016117 2017-03-09 10:35:30+00:00 2017-03-09 10:35:30+00:00   \n",
       "9   0000000016513 2017-03-09 10:34:14+00:00 2017-03-09 10:34:14+00:00   \n",
       "10  0000000016612 2017-03-09 10:35:31+00:00 2017-03-09 10:35:31+00:00   \n",
       "11  0000000016650 2017-03-09 10:34:28+00:00 2017-03-09 10:34:28+00:00   \n",
       "\n",
       "                     product_name countries nutrition_grade_fr  additives_n  \\\n",
       "4                 Organic Polenta        US               <NA>          0.0   \n",
       "6   Organic Long Grain White Rice        US               <NA>          0.0   \n",
       "9           Organic Sunflower Oil        US               <NA>          0.0   \n",
       "10           Organic Adzuki Beans        US               <NA>          0.0   \n",
       "11            Organic Penne Pasta        US               <NA>          0.0   \n",
       "\n",
       "    palm_oil  maybe_palm_oil  energy  fat_100g  saturated-fat  \\\n",
       "4        0.0             0.0  1552.0      1.43            NaN   \n",
       "6        0.0             0.0  1490.0       NaN            NaN   \n",
       "9        0.0             0.0  3586.0    100.00           7.14   \n",
       "10       0.0             0.0  1393.0      1.04            NaN   \n",
       "11       0.0             0.0  1540.0      1.75            NaN   \n",
       "\n",
       "    carbohydrates_100g  sugars  fiber_100g  proteins_100g  salt_100g  sodium  \\\n",
       "4                77.14     NaN         5.7           8.57        NaN     NaN   \n",
       "6                80.00     NaN         NaN           8.89        NaN     NaN   \n",
       "9                  NaN     NaN         NaN            NaN        NaN     NaN   \n",
       "10               62.50     NaN        12.5          22.92        NaN     NaN   \n",
       "11               73.68     NaN         1.8          14.04        NaN     NaN   \n",
       "\n",
       "    nutrition-score-fr  nutrition-score-uk  \n",
       "4                  NaN                 NaN  \n",
       "6                  NaN                 NaN  \n",
       "9                  NaN                 NaN  \n",
       "10                 NaN                 NaN  \n",
       "11                 NaN                 NaN  "
      ]
     },
     "execution_count": 44,
     "metadata": {},
     "output_type": "execute_result"
    }
   ],
   "source": [
    "cal = somme(df1)<=100\n",
    "number = np.where(cal)\n",
    "df2 = df1.iloc[number].copy()\n",
    "df2.head()"
   ]
  },
  {
   "cell_type": "markdown",
   "metadata": {},
   "source": [
    "### 3.Sélection des lignes le plus remplis"
   ]
  },
  {
   "cell_type": "code",
   "execution_count": 45,
   "metadata": {},
   "outputs": [
    {
     "data": {
      "text/html": [
       "<div>\n",
       "<style scoped>\n",
       "    .dataframe tbody tr th:only-of-type {\n",
       "        vertical-align: middle;\n",
       "    }\n",
       "\n",
       "    .dataframe tbody tr th {\n",
       "        vertical-align: top;\n",
       "    }\n",
       "\n",
       "    .dataframe thead th {\n",
       "        text-align: right;\n",
       "    }\n",
       "</style>\n",
       "<table border=\"1\" class=\"dataframe\">\n",
       "  <thead>\n",
       "    <tr style=\"text-align: right;\">\n",
       "      <th></th>\n",
       "      <th>code</th>\n",
       "      <th>created_datetime</th>\n",
       "      <th>last_modified_datetime</th>\n",
       "      <th>product_name</th>\n",
       "      <th>countries</th>\n",
       "      <th>nutrition_grade_fr</th>\n",
       "      <th>additives_n</th>\n",
       "      <th>palm_oil</th>\n",
       "      <th>maybe_palm_oil</th>\n",
       "      <th>energy</th>\n",
       "      <th>fat_100g</th>\n",
       "      <th>saturated-fat</th>\n",
       "      <th>carbohydrates_100g</th>\n",
       "      <th>sugars</th>\n",
       "      <th>fiber_100g</th>\n",
       "      <th>proteins_100g</th>\n",
       "      <th>salt_100g</th>\n",
       "      <th>sodium</th>\n",
       "      <th>nutrition-score-fr</th>\n",
       "      <th>nutrition-score-uk</th>\n",
       "    </tr>\n",
       "  </thead>\n",
       "  <tbody>\n",
       "    <tr>\n",
       "      <th>4</th>\n",
       "      <td>0000000016094</td>\n",
       "      <td>2017-03-09 10:34:13+00:00</td>\n",
       "      <td>2017-03-09 10:34:13+00:00</td>\n",
       "      <td>Organic Polenta</td>\n",
       "      <td>US</td>\n",
       "      <td>&lt;NA&gt;</td>\n",
       "      <td>0.0</td>\n",
       "      <td>0.0</td>\n",
       "      <td>0.0</td>\n",
       "      <td>1552.0</td>\n",
       "      <td>1.43</td>\n",
       "      <td>NaN</td>\n",
       "      <td>77.14</td>\n",
       "      <td>NaN</td>\n",
       "      <td>5.7</td>\n",
       "      <td>8.57</td>\n",
       "      <td>NaN</td>\n",
       "      <td>NaN</td>\n",
       "      <td>NaN</td>\n",
       "      <td>NaN</td>\n",
       "    </tr>\n",
       "    <tr>\n",
       "      <th>6</th>\n",
       "      <td>0000000016117</td>\n",
       "      <td>2017-03-09 10:35:30+00:00</td>\n",
       "      <td>2017-03-09 10:35:30+00:00</td>\n",
       "      <td>Organic Long Grain White Rice</td>\n",
       "      <td>US</td>\n",
       "      <td>&lt;NA&gt;</td>\n",
       "      <td>0.0</td>\n",
       "      <td>0.0</td>\n",
       "      <td>0.0</td>\n",
       "      <td>1490.0</td>\n",
       "      <td>NaN</td>\n",
       "      <td>NaN</td>\n",
       "      <td>80.00</td>\n",
       "      <td>NaN</td>\n",
       "      <td>NaN</td>\n",
       "      <td>8.89</td>\n",
       "      <td>NaN</td>\n",
       "      <td>NaN</td>\n",
       "      <td>NaN</td>\n",
       "      <td>NaN</td>\n",
       "    </tr>\n",
       "    <tr>\n",
       "      <th>9</th>\n",
       "      <td>0000000016513</td>\n",
       "      <td>2017-03-09 10:34:14+00:00</td>\n",
       "      <td>2017-03-09 10:34:14+00:00</td>\n",
       "      <td>Organic Sunflower Oil</td>\n",
       "      <td>US</td>\n",
       "      <td>&lt;NA&gt;</td>\n",
       "      <td>0.0</td>\n",
       "      <td>0.0</td>\n",
       "      <td>0.0</td>\n",
       "      <td>3586.0</td>\n",
       "      <td>100.00</td>\n",
       "      <td>7.14</td>\n",
       "      <td>NaN</td>\n",
       "      <td>NaN</td>\n",
       "      <td>NaN</td>\n",
       "      <td>NaN</td>\n",
       "      <td>NaN</td>\n",
       "      <td>NaN</td>\n",
       "      <td>NaN</td>\n",
       "      <td>NaN</td>\n",
       "    </tr>\n",
       "    <tr>\n",
       "      <th>10</th>\n",
       "      <td>0000000016612</td>\n",
       "      <td>2017-03-09 10:35:31+00:00</td>\n",
       "      <td>2017-03-09 10:35:31+00:00</td>\n",
       "      <td>Organic Adzuki Beans</td>\n",
       "      <td>US</td>\n",
       "      <td>&lt;NA&gt;</td>\n",
       "      <td>0.0</td>\n",
       "      <td>0.0</td>\n",
       "      <td>0.0</td>\n",
       "      <td>1393.0</td>\n",
       "      <td>1.04</td>\n",
       "      <td>NaN</td>\n",
       "      <td>62.50</td>\n",
       "      <td>NaN</td>\n",
       "      <td>12.5</td>\n",
       "      <td>22.92</td>\n",
       "      <td>NaN</td>\n",
       "      <td>NaN</td>\n",
       "      <td>NaN</td>\n",
       "      <td>NaN</td>\n",
       "    </tr>\n",
       "    <tr>\n",
       "      <th>11</th>\n",
       "      <td>0000000016650</td>\n",
       "      <td>2017-03-09 10:34:28+00:00</td>\n",
       "      <td>2017-03-09 10:34:28+00:00</td>\n",
       "      <td>Organic Penne Pasta</td>\n",
       "      <td>US</td>\n",
       "      <td>&lt;NA&gt;</td>\n",
       "      <td>0.0</td>\n",
       "      <td>0.0</td>\n",
       "      <td>0.0</td>\n",
       "      <td>1540.0</td>\n",
       "      <td>1.75</td>\n",
       "      <td>NaN</td>\n",
       "      <td>73.68</td>\n",
       "      <td>NaN</td>\n",
       "      <td>1.8</td>\n",
       "      <td>14.04</td>\n",
       "      <td>NaN</td>\n",
       "      <td>NaN</td>\n",
       "      <td>NaN</td>\n",
       "      <td>NaN</td>\n",
       "    </tr>\n",
       "  </tbody>\n",
       "</table>\n",
       "</div>"
      ],
      "text/plain": [
       "             code          created_datetime    last_modified_datetime  \\\n",
       "4   0000000016094 2017-03-09 10:34:13+00:00 2017-03-09 10:34:13+00:00   \n",
       "6   0000000016117 2017-03-09 10:35:30+00:00 2017-03-09 10:35:30+00:00   \n",
       "9   0000000016513 2017-03-09 10:34:14+00:00 2017-03-09 10:34:14+00:00   \n",
       "10  0000000016612 2017-03-09 10:35:31+00:00 2017-03-09 10:35:31+00:00   \n",
       "11  0000000016650 2017-03-09 10:34:28+00:00 2017-03-09 10:34:28+00:00   \n",
       "\n",
       "                     product_name countries nutrition_grade_fr  additives_n  \\\n",
       "4                 Organic Polenta        US               <NA>          0.0   \n",
       "6   Organic Long Grain White Rice        US               <NA>          0.0   \n",
       "9           Organic Sunflower Oil        US               <NA>          0.0   \n",
       "10           Organic Adzuki Beans        US               <NA>          0.0   \n",
       "11            Organic Penne Pasta        US               <NA>          0.0   \n",
       "\n",
       "    palm_oil  maybe_palm_oil  energy  fat_100g  saturated-fat  \\\n",
       "4        0.0             0.0  1552.0      1.43            NaN   \n",
       "6        0.0             0.0  1490.0       NaN            NaN   \n",
       "9        0.0             0.0  3586.0    100.00           7.14   \n",
       "10       0.0             0.0  1393.0      1.04            NaN   \n",
       "11       0.0             0.0  1540.0      1.75            NaN   \n",
       "\n",
       "    carbohydrates_100g  sugars  fiber_100g  proteins_100g  salt_100g  sodium  \\\n",
       "4                77.14     NaN         5.7           8.57        NaN     NaN   \n",
       "6                80.00     NaN         NaN           8.89        NaN     NaN   \n",
       "9                  NaN     NaN         NaN            NaN        NaN     NaN   \n",
       "10               62.50     NaN        12.5          22.92        NaN     NaN   \n",
       "11               73.68     NaN         1.8          14.04        NaN     NaN   \n",
       "\n",
       "    nutrition-score-fr  nutrition-score-uk  \n",
       "4                  NaN                 NaN  \n",
       "6                  NaN                 NaN  \n",
       "9                  NaN                 NaN  \n",
       "10                 NaN                 NaN  \n",
       "11                 NaN                 NaN  "
      ]
     },
     "execution_count": 45,
     "metadata": {},
     "output_type": "execute_result"
    }
   ],
   "source": [
    "df3 = df2.transpose().copy()\n",
    "val_nan = tauxRemplissage(df3)\n",
    "val_nan = val_nan.reset_index()\n",
    "sel_cols=[ x for x in val_nan.columns if val_nan.loc[0,x]>.5 ]\n",
    "df3 = df2.loc[sel_cols]\n",
    "df3.head()"
   ]
  },
  {
   "cell_type": "markdown",
   "metadata": {},
   "source": [
    "## 7. Analyse des valeurs"
   ]
  },
  {
   "cell_type": "code",
   "execution_count": 46,
   "metadata": {},
   "outputs": [],
   "source": [
    "colonne = ['additives_n', 'palm_oil',\n",
    "'maybe_palm_oil', 'fat_100g', 'saturated-fat',\n",
    "'carbohydrates_100g', 'sugars', 'fiber_100g', 'proteins_100g',\n",
    "'salt_100g', 'sodium']"
   ]
  },
  {
   "cell_type": "code",
   "execution_count": 47,
   "metadata": {},
   "outputs": [
    {
     "data": {
      "text/plain": [
       "Text(0.5, 1.0, 'Graphique sur les quantités')"
      ]
     },
     "execution_count": 47,
     "metadata": {},
     "output_type": "execute_result"
    },
    {
     "data": {
      "image/png": "[encoded data removed]",
      "text/plain": [
       "<Figure size 1440x720 with 1 Axes>"
      ]
     },
     "metadata": {
      "needs_background": "light"
     },
     "output_type": "display_data"
    }
   ],
   "source": [
    "plt.rcParams[\"figure.figsize\"] = (20,10)\n",
    "sns.stripplot(data = df3[colonne])\n",
    "plt.xlabel('\\nColonnes', fontsize=12)\n",
    "plt.ylabel('Ingredient _ 100g\\n', fontsize=12)\n",
    "plt.title(\"Graphique sur les quantités\", fontsize=12,fontweight = 'bold')"
   ]
  },
  {
   "cell_type": "code",
   "execution_count": 48,
   "metadata": {},
   "outputs": [
    {
     "data": {
      "image/png": "[encoded data removed]",
      "text/plain": [
       "<Figure size 720x360 with 1 Axes>"
      ]
     },
     "metadata": {
      "needs_background": "light"
     },
     "output_type": "display_data"
    }
   ],
   "source": [
    "plt.rcParams[\"figure.figsize\"] = (10,5)\n",
    "graphRemplissage(df3)"
   ]
  },
  {
   "cell_type": "code",
   "execution_count": 49,
   "metadata": {},
   "outputs": [],
   "source": [
    "def densite(col1,col2):\n",
    "    \"\"\"\n",
    "    Entrée : nom de colonne\n",
    "    Objectifs : Afficher les densités des deux variables\n",
    "    Sorties : Plot\n",
    "    \"\"\"\n",
    "    \n",
    "    plt.rcParams[\"figure.figsize\"] = (15,5)\n",
    "    df3[col1].plot.kde(color='red')\n",
    "    df3[col2].plot.kde(color='blue')\n",
    "    plt.xlim([-25, 100])\n",
    "    plt.ylim([0, 0.3])\n",
    "    plt.title('Densité')\n",
    "    plt.show()"
   ]
  },
  {
   "cell_type": "code",
   "execution_count": 50,
   "metadata": {},
   "outputs": [
    {
     "data": {
      "image/png": "[encoded data removed]",
      "text/plain": [
       "<Figure size 1080x360 with 1 Axes>"
      ]
     },
     "metadata": {
      "needs_background": "light"
     },
     "output_type": "display_data"
    }
   ],
   "source": [
    "densite('fat_100g','saturated-fat')"
   ]
  },
  {
   "cell_type": "code",
   "execution_count": 51,
   "metadata": {
    "scrolled": true
   },
   "outputs": [
    {
     "data": {
      "image/png": "[encoded data removed]",
      "text/plain": [
       "<Figure size 1080x360 with 1 Axes>"
      ]
     },
     "metadata": {
      "needs_background": "light"
     },
     "output_type": "display_data"
    }
   ],
   "source": [
    "densite('carbohydrates_100g','sugars')"
   ]
  },
  {
   "cell_type": "markdown",
   "metadata": {},
   "source": [
    "On affiche les valeurs 0 et 100 des différentes colonnes"
   ]
  },
  {
   "cell_type": "markdown",
   "metadata": {},
   "source": [
    "## 8. Corrélation"
   ]
  },
  {
   "cell_type": "code",
   "execution_count": 52,
   "metadata": {},
   "outputs": [],
   "source": [
    "df_norm = df3.select_dtypes(include = 'float64')"
   ]
  },
  {
   "cell_type": "code",
   "execution_count": 53,
   "metadata": {},
   "outputs": [],
   "source": [
    "corr = df_norm.corr()"
   ]
  },
  {
   "cell_type": "code",
   "execution_count": 54,
   "metadata": {},
   "outputs": [
    {
     "name": "stderr",
     "output_type": "stream",
     "text": [
      "C:\\Users\\cisso\\AppData\\Local\\Temp/ipykernel_21696/2795299928.py:1: DeprecationWarning: `np.bool` is a deprecated alias for the builtin `bool`. To silence this warning, use `bool` by itself. Doing this will not modify any behavior and is safe. If you specifically wanted the numpy scalar type, use `np.bool_` here.\n",
      "Deprecated in NumPy 1.20; for more details and guidance: https://numpy.org/devdocs/release/1.20.0-notes.html#deprecations\n",
      "  mask = np.zeros_like(corr, dtype = np.bool)\n"
     ]
    },
    {
     "data": {
      "image/png": "[encoded data removed]",
      "text/plain": [
       "<Figure size 720x576 with 2 Axes>"
      ]
     },
     "metadata": {
      "needs_background": "light"
     },
     "output_type": "display_data"
    }
   ],
   "source": [
    "mask = np.zeros_like(corr, dtype = np.bool)\n",
    "mask[np.triu_indices_from(mask)] = True\n",
    "\n",
    "fig,ax = plt.subplots(figsize=(10,8))\n",
    "plt.rcParams.update({'font.size': 12})\n",
    "sns.heatmap(corr, annot=True, square=True, mask = mask, vmin = -1, fmt=\".2f\", cmap = 'coolwarm')\n",
    "plt.title(\"Graphique de corrélation\", fontsize=10,fontweight = 'bold')\n",
    "plt.show()"
   ]
  },
  {
   "cell_type": "markdown",
   "metadata": {},
   "source": [
    "Colonnes corréllée : <br>\n",
    "fat_100g, saturated-fat, energy, sugars"
   ]
  },
  {
   "cell_type": "markdown",
   "metadata": {},
   "source": [
    "Vérifions que les colonnes ne sont pas de distributions gaussiennes"
   ]
  },
  {
   "cell_type": "code",
   "execution_count": 55,
   "metadata": {},
   "outputs": [
    {
     "data": {
      "text/plain": [
       "Text(0.5, 1.0, 'Histogramme _ fat_100g')"
      ]
     },
     "execution_count": 55,
     "metadata": {},
     "output_type": "execute_result"
    },
    {
     "data": {
      "image/png": "[encoded data removed]",
      "text/plain": [
       "<Figure size 576x432 with 1 Axes>"
      ]
     },
     "metadata": {
      "needs_background": "light"
     },
     "output_type": "display_data"
    }
   ],
   "source": [
    "fig,ax = plt.subplots(figsize=(8,6))\n",
    "plt.hist(df3[\"fat_100g\"])\n",
    "plt.title(\"Histogramme _ fat_100g\", fontsize=12,fontweight = 'bold')"
   ]
  },
  {
   "cell_type": "code",
   "execution_count": 56,
   "metadata": {},
   "outputs": [
    {
     "data": {
      "text/plain": [
       "Text(0.5, 1.0, 'Histogramme _ saturated-fat')"
      ]
     },
     "execution_count": 56,
     "metadata": {},
     "output_type": "execute_result"
    },
    {
     "data": {
      "image/png": "[encoded data removed]",
      "text/plain": [
       "<Figure size 576x432 with 1 Axes>"
      ]
     },
     "metadata": {
      "needs_background": "light"
     },
     "output_type": "display_data"
    }
   ],
   "source": [
    "fig,ax = plt.subplots(figsize=(8,6))\n",
    "plt.hist(df3[\"saturated-fat\"])\n",
    "plt.title(\"Histogramme _ saturated-fat\", fontsize=12,fontweight = 'bold')"
   ]
  },
  {
   "cell_type": "code",
   "execution_count": 57,
   "metadata": {},
   "outputs": [
    {
     "data": {
      "text/plain": [
       "Text(0.5, 1.0, 'Histogramme _ energy')"
      ]
     },
     "execution_count": 57,
     "metadata": {},
     "output_type": "execute_result"
    },
    {
     "data": {
      "image/png": "[encoded data removed]",
      "text/plain": [
       "<Figure size 576x432 with 1 Axes>"
      ]
     },
     "metadata": {
      "needs_background": "light"
     },
     "output_type": "display_data"
    }
   ],
   "source": [
    "fig,ax = plt.subplots(figsize=(8,6))\n",
    "plt.hist(df3[\"energy\"])\n",
    "plt.title(\"Histogramme _ energy\", fontsize=12,fontweight = 'bold')"
   ]
  },
  {
   "cell_type": "code",
   "execution_count": 58,
   "metadata": {},
   "outputs": [
    {
     "data": {
      "text/plain": [
       "Text(0.5, 1.0, 'Histogramme _ sugars')"
      ]
     },
     "execution_count": 58,
     "metadata": {},
     "output_type": "execute_result"
    },
    {
     "data": {
      "image/png": "[encoded data removed]",
      "text/plain": [
       "<Figure size 576x432 with 1 Axes>"
      ]
     },
     "metadata": {
      "needs_background": "light"
     },
     "output_type": "display_data"
    }
   ],
   "source": [
    "fig,ax = plt.subplots(figsize=(8,6))\n",
    "plt.hist(df3[\"sugars\"])\n",
    "plt.title(\"Histogramme _ sugars\", fontsize=12,fontweight = 'bold')"
   ]
  },
  {
   "cell_type": "markdown",
   "metadata": {},
   "source": [
    "Les quatres colonnes sont corréllées, mais elles ne suivent pas une distribution gaussienne."
   ]
  },
  {
   "cell_type": "markdown",
   "metadata": {},
   "source": [
    "## 9. Combler les valeurs manquantes"
   ]
  },
  {
   "cell_type": "markdown",
   "metadata": {},
   "source": [
    "### 1. Méthode SimpleImputer"
   ]
  },
  {
   "cell_type": "code",
   "execution_count": 59,
   "metadata": {},
   "outputs": [],
   "source": [
    "col = ['fiber_100g','nutrition-score-uk']\n",
    "imp = SimpleImputer(missing_values=np.nan, strategy='constant',fill_value=0)\n",
    "df3[col] = imp.fit_transform(df3[col])"
   ]
  },
  {
   "cell_type": "code",
   "execution_count": 60,
   "metadata": {},
   "outputs": [],
   "source": [
    "df3.drop(columns = 'nutrition-score-uk', inplace = True)"
   ]
  },
  {
   "cell_type": "markdown",
   "metadata": {},
   "source": [
    "### 2. Méthode IterativeImputer"
   ]
  },
  {
   "cell_type": "code",
   "execution_count": 61,
   "metadata": {},
   "outputs": [],
   "source": [
    "cor = ['energy','fat_100g', 'saturated-fat', 'sugars','nutrition-score-fr']\n",
    "data_imputed = df3[cor]"
   ]
  },
  {
   "cell_type": "code",
   "execution_count": 62,
   "metadata": {},
   "outputs": [],
   "source": [
    "imp = IterativeImputer(random_state=0, max_iter=100)\n",
    "df3.loc[:,cor] = imp.fit_transform(data_imputed[cor])"
   ]
  },
  {
   "cell_type": "code",
   "execution_count": 63,
   "metadata": {},
   "outputs": [
    {
     "data": {
      "text/html": [
       "<div>\n",
       "<style scoped>\n",
       "    .dataframe tbody tr th:only-of-type {\n",
       "        vertical-align: middle;\n",
       "    }\n",
       "\n",
       "    .dataframe tbody tr th {\n",
       "        vertical-align: top;\n",
       "    }\n",
       "\n",
       "    .dataframe thead th {\n",
       "        text-align: right;\n",
       "    }\n",
       "</style>\n",
       "<table border=\"1\" class=\"dataframe\">\n",
       "  <thead>\n",
       "    <tr style=\"text-align: right;\">\n",
       "      <th></th>\n",
       "      <th>energy</th>\n",
       "      <th>fat_100g</th>\n",
       "      <th>saturated-fat</th>\n",
       "      <th>sugars</th>\n",
       "      <th>nutrition-score-fr</th>\n",
       "    </tr>\n",
       "  </thead>\n",
       "  <tbody>\n",
       "    <tr>\n",
       "      <th>4</th>\n",
       "      <td>1552.0</td>\n",
       "      <td>1.430000</td>\n",
       "      <td>1.636841</td>\n",
       "      <td>39.282530</td>\n",
       "      <td>11.139847</td>\n",
       "    </tr>\n",
       "    <tr>\n",
       "      <th>6</th>\n",
       "      <td>1490.0</td>\n",
       "      <td>18.923314</td>\n",
       "      <td>6.966711</td>\n",
       "      <td>18.482962</td>\n",
       "      <td>12.270520</td>\n",
       "    </tr>\n",
       "    <tr>\n",
       "      <th>9</th>\n",
       "      <td>3586.0</td>\n",
       "      <td>100.000000</td>\n",
       "      <td>7.140000</td>\n",
       "      <td>-35.164359</td>\n",
       "      <td>19.088471</td>\n",
       "    </tr>\n",
       "    <tr>\n",
       "      <th>10</th>\n",
       "      <td>1393.0</td>\n",
       "      <td>1.040000</td>\n",
       "      <td>1.438453</td>\n",
       "      <td>35.496594</td>\n",
       "      <td>10.064075</td>\n",
       "    </tr>\n",
       "    <tr>\n",
       "      <th>11</th>\n",
       "      <td>1540.0</td>\n",
       "      <td>1.750000</td>\n",
       "      <td>1.728930</td>\n",
       "      <td>38.614034</td>\n",
       "      <td>11.089328</td>\n",
       "    </tr>\n",
       "  </tbody>\n",
       "</table>\n",
       "</div>"
      ],
      "text/plain": [
       "    energy    fat_100g  saturated-fat     sugars  nutrition-score-fr\n",
       "4   1552.0    1.430000       1.636841  39.282530           11.139847\n",
       "6   1490.0   18.923314       6.966711  18.482962           12.270520\n",
       "9   3586.0  100.000000       7.140000 -35.164359           19.088471\n",
       "10  1393.0    1.040000       1.438453  35.496594           10.064075\n",
       "11  1540.0    1.750000       1.728930  38.614034           11.089328"
      ]
     },
     "execution_count": 63,
     "metadata": {},
     "output_type": "execute_result"
    }
   ],
   "source": [
    "df3[cor].head()"
   ]
  },
  {
   "cell_type": "code",
   "execution_count": 64,
   "metadata": {},
   "outputs": [
    {
     "data": {
      "text/plain": [
       "Text(0.5, 1.0, \"Graphique sur la quantité d'énergie\")"
      ]
     },
     "execution_count": 64,
     "metadata": {},
     "output_type": "execute_result"
    },
    {
     "data": {
      "image/png": "[encoded data removed]",
      "text/plain": [
       "<Figure size 144x360 with 1 Axes>"
      ]
     },
     "metadata": {
      "needs_background": "light"
     },
     "output_type": "display_data"
    }
   ],
   "source": [
    "cor = ['energy']\n",
    "plt.rcParams[\"figure.figsize\"] = (2,5)\n",
    "sns.stripplot(data = df3[cor], color = 'yellow')\n",
    "plt.xlabel('\\nColonnes', fontsize=12)\n",
    "plt.ylabel('Ingredient _ 100g\\n', fontsize=12)\n",
    "plt.title(\"Graphique sur la quantité d'énergie\", fontsize=12,fontweight = 'bold')"
   ]
  },
  {
   "cell_type": "code",
   "execution_count": 65,
   "metadata": {},
   "outputs": [
    {
     "data": {
      "text/plain": [
       "Text(0.5, 1.0, 'Graphique sur les quantités')"
      ]
     },
     "execution_count": 65,
     "metadata": {},
     "output_type": "execute_result"
    },
    {
     "data": {
      "image/png": "[encoded data removed]",
      "text/plain": [
       "<Figure size 360x360 with 1 Axes>"
      ]
     },
     "metadata": {
      "needs_background": "light"
     },
     "output_type": "display_data"
    }
   ],
   "source": [
    "cor = ['fat_100g', 'saturated-fat', 'sugars','nutrition-score-fr']\n",
    "plt.rcParams[\"figure.figsize\"] = (5,5)\n",
    "sns.stripplot(data = df3[cor])\n",
    "plt.xlabel('\\nColonnes', fontsize=12)\n",
    "plt.ylabel('Ingredient _ 100g\\n', fontsize=12)\n",
    "plt.title(\"Graphique sur les quantités\", fontsize=12,fontweight = 'bold')"
   ]
  },
  {
   "cell_type": "markdown",
   "metadata": {},
   "source": [
    "### 3. Méthodes KNN Imputer"
   ]
  },
  {
   "cell_type": "code",
   "execution_count": 66,
   "metadata": {},
   "outputs": [],
   "source": [
    "col = ['fat_100g', 'saturated-fat', 'sugars',\n",
    "'additives_n','palm_oil',\n",
    "'carbohydrates_100g','maybe_palm_oil',\n",
    "'fiber_100g','proteins_100g',\n",
    "'salt_100g','sodium',\n",
    "'nutrition-score-fr']"
   ]
  },
  {
   "cell_type": "code",
   "execution_count": 67,
   "metadata": {},
   "outputs": [
    {
     "data": {
      "text/html": [
       "<div>\n",
       "<style scoped>\n",
       "    .dataframe tbody tr th:only-of-type {\n",
       "        vertical-align: middle;\n",
       "    }\n",
       "\n",
       "    .dataframe tbody tr th {\n",
       "        vertical-align: top;\n",
       "    }\n",
       "\n",
       "    .dataframe thead th {\n",
       "        text-align: right;\n",
       "    }\n",
       "</style>\n",
       "<table border=\"1\" class=\"dataframe\">\n",
       "  <thead>\n",
       "    <tr style=\"text-align: right;\">\n",
       "      <th></th>\n",
       "      <th>code</th>\n",
       "      <th>created_datetime</th>\n",
       "      <th>last_modified_datetime</th>\n",
       "      <th>product_name</th>\n",
       "      <th>countries</th>\n",
       "      <th>nutrition_grade_fr</th>\n",
       "      <th>additives_n</th>\n",
       "      <th>palm_oil</th>\n",
       "      <th>maybe_palm_oil</th>\n",
       "      <th>energy</th>\n",
       "      <th>fat_100g</th>\n",
       "      <th>saturated-fat</th>\n",
       "      <th>carbohydrates_100g</th>\n",
       "      <th>sugars</th>\n",
       "      <th>fiber_100g</th>\n",
       "      <th>proteins_100g</th>\n",
       "      <th>salt_100g</th>\n",
       "      <th>sodium</th>\n",
       "      <th>nutrition-score-fr</th>\n",
       "    </tr>\n",
       "  </thead>\n",
       "  <tbody>\n",
       "    <tr>\n",
       "      <th>4</th>\n",
       "      <td>0000000016094</td>\n",
       "      <td>2017-03-09 10:34:13+00:00</td>\n",
       "      <td>2017-03-09 10:34:13+00:00</td>\n",
       "      <td>Organic Polenta</td>\n",
       "      <td>US</td>\n",
       "      <td>&lt;NA&gt;</td>\n",
       "      <td>0.0</td>\n",
       "      <td>0.0</td>\n",
       "      <td>0.0</td>\n",
       "      <td>1552.0</td>\n",
       "      <td>1.430000</td>\n",
       "      <td>1.636841</td>\n",
       "      <td>77.14</td>\n",
       "      <td>39.282530</td>\n",
       "      <td>5.7</td>\n",
       "      <td>8.57</td>\n",
       "      <td>0.000000</td>\n",
       "      <td>0.000000</td>\n",
       "      <td>11.139847</td>\n",
       "    </tr>\n",
       "    <tr>\n",
       "      <th>6</th>\n",
       "      <td>0000000016117</td>\n",
       "      <td>2017-03-09 10:35:30+00:00</td>\n",
       "      <td>2017-03-09 10:35:30+00:00</td>\n",
       "      <td>Organic Long Grain White Rice</td>\n",
       "      <td>US</td>\n",
       "      <td>&lt;NA&gt;</td>\n",
       "      <td>0.0</td>\n",
       "      <td>0.0</td>\n",
       "      <td>0.0</td>\n",
       "      <td>1490.0</td>\n",
       "      <td>18.923314</td>\n",
       "      <td>6.966711</td>\n",
       "      <td>80.00</td>\n",
       "      <td>18.482962</td>\n",
       "      <td>0.0</td>\n",
       "      <td>8.89</td>\n",
       "      <td>0.203333</td>\n",
       "      <td>0.080052</td>\n",
       "      <td>12.270520</td>\n",
       "    </tr>\n",
       "    <tr>\n",
       "      <th>9</th>\n",
       "      <td>0000000016513</td>\n",
       "      <td>2017-03-09 10:34:14+00:00</td>\n",
       "      <td>2017-03-09 10:34:14+00:00</td>\n",
       "      <td>Organic Sunflower Oil</td>\n",
       "      <td>US</td>\n",
       "      <td>&lt;NA&gt;</td>\n",
       "      <td>0.0</td>\n",
       "      <td>0.0</td>\n",
       "      <td>0.0</td>\n",
       "      <td>3586.0</td>\n",
       "      <td>100.000000</td>\n",
       "      <td>7.140000</td>\n",
       "      <td>0.00</td>\n",
       "      <td>-35.164359</td>\n",
       "      <td>0.0</td>\n",
       "      <td>0.00</td>\n",
       "      <td>0.000000</td>\n",
       "      <td>0.000000</td>\n",
       "      <td>19.088471</td>\n",
       "    </tr>\n",
       "    <tr>\n",
       "      <th>10</th>\n",
       "      <td>0000000016612</td>\n",
       "      <td>2017-03-09 10:35:31+00:00</td>\n",
       "      <td>2017-03-09 10:35:31+00:00</td>\n",
       "      <td>Organic Adzuki Beans</td>\n",
       "      <td>US</td>\n",
       "      <td>&lt;NA&gt;</td>\n",
       "      <td>0.0</td>\n",
       "      <td>0.0</td>\n",
       "      <td>0.0</td>\n",
       "      <td>1393.0</td>\n",
       "      <td>1.040000</td>\n",
       "      <td>1.438453</td>\n",
       "      <td>62.50</td>\n",
       "      <td>35.496594</td>\n",
       "      <td>12.5</td>\n",
       "      <td>22.92</td>\n",
       "      <td>0.010160</td>\n",
       "      <td>0.004000</td>\n",
       "      <td>10.064075</td>\n",
       "    </tr>\n",
       "    <tr>\n",
       "      <th>11</th>\n",
       "      <td>0000000016650</td>\n",
       "      <td>2017-03-09 10:34:28+00:00</td>\n",
       "      <td>2017-03-09 10:34:28+00:00</td>\n",
       "      <td>Organic Penne Pasta</td>\n",
       "      <td>US</td>\n",
       "      <td>&lt;NA&gt;</td>\n",
       "      <td>0.0</td>\n",
       "      <td>0.0</td>\n",
       "      <td>0.0</td>\n",
       "      <td>1540.0</td>\n",
       "      <td>1.750000</td>\n",
       "      <td>1.728930</td>\n",
       "      <td>73.68</td>\n",
       "      <td>38.614034</td>\n",
       "      <td>1.8</td>\n",
       "      <td>14.04</td>\n",
       "      <td>0.049107</td>\n",
       "      <td>0.019333</td>\n",
       "      <td>11.089328</td>\n",
       "    </tr>\n",
       "  </tbody>\n",
       "</table>\n",
       "</div>"
      ],
      "text/plain": [
       "             code          created_datetime    last_modified_datetime  \\\n",
       "4   0000000016094 2017-03-09 10:34:13+00:00 2017-03-09 10:34:13+00:00   \n",
       "6   0000000016117 2017-03-09 10:35:30+00:00 2017-03-09 10:35:30+00:00   \n",
       "9   0000000016513 2017-03-09 10:34:14+00:00 2017-03-09 10:34:14+00:00   \n",
       "10  0000000016612 2017-03-09 10:35:31+00:00 2017-03-09 10:35:31+00:00   \n",
       "11  0000000016650 2017-03-09 10:34:28+00:00 2017-03-09 10:34:28+00:00   \n",
       "\n",
       "                     product_name countries nutrition_grade_fr  additives_n  \\\n",
       "4                 Organic Polenta        US               <NA>          0.0   \n",
       "6   Organic Long Grain White Rice        US               <NA>          0.0   \n",
       "9           Organic Sunflower Oil        US               <NA>          0.0   \n",
       "10           Organic Adzuki Beans        US               <NA>          0.0   \n",
       "11            Organic Penne Pasta        US               <NA>          0.0   \n",
       "\n",
       "    palm_oil  maybe_palm_oil  energy    fat_100g  saturated-fat  \\\n",
       "4        0.0             0.0  1552.0    1.430000       1.636841   \n",
       "6        0.0             0.0  1490.0   18.923314       6.966711   \n",
       "9        0.0             0.0  3586.0  100.000000       7.140000   \n",
       "10       0.0             0.0  1393.0    1.040000       1.438453   \n",
       "11       0.0             0.0  1540.0    1.750000       1.728930   \n",
       "\n",
       "    carbohydrates_100g     sugars  fiber_100g  proteins_100g  salt_100g  \\\n",
       "4                77.14  39.282530         5.7           8.57   0.000000   \n",
       "6                80.00  18.482962         0.0           8.89   0.203333   \n",
       "9                 0.00 -35.164359         0.0           0.00   0.000000   \n",
       "10               62.50  35.496594        12.5          22.92   0.010160   \n",
       "11               73.68  38.614034         1.8          14.04   0.049107   \n",
       "\n",
       "      sodium  nutrition-score-fr  \n",
       "4   0.000000           11.139847  \n",
       "6   0.080052           12.270520  \n",
       "9   0.000000           19.088471  \n",
       "10  0.004000           10.064075  \n",
       "11  0.019333           11.089328  "
      ]
     },
     "execution_count": 67,
     "metadata": {},
     "output_type": "execute_result"
    }
   ],
   "source": [
    "KnnImpute = KNNImputer(n_neighbors=3)\n",
    "df3.loc[:,col] = KnnImpute.fit_transform(df3[col])\n",
    "df3.head()"
   ]
  },
  {
   "cell_type": "code",
   "execution_count": 68,
   "metadata": {},
   "outputs": [
    {
     "data": {
      "image/png": "[encoded data removed]",
      "text/plain": [
       "<Figure size 720x360 with 1 Axes>"
      ]
     },
     "metadata": {
      "needs_background": "light"
     },
     "output_type": "display_data"
    }
   ],
   "source": [
    "plt.rcParams[\"figure.figsize\"] = (10,5)\n",
    "graphRemplissage(df3)"
   ]
  },
  {
   "cell_type": "code",
   "execution_count": 69,
   "metadata": {},
   "outputs": [],
   "source": [
    "col = ['additives_n','palm_oil','fat_100g',\n",
    "'saturated-fat','carbohydrates_100g',\n",
    "'sugars','maybe_palm_oil',\n",
    "'fiber_100g','proteins_100g',\n",
    "'salt_100g','sodium',\n",
    "'nutrition-score-fr']"
   ]
  },
  {
   "cell_type": "code",
   "execution_count": 70,
   "metadata": {},
   "outputs": [
    {
     "name": "stderr",
     "output_type": "stream",
     "text": [
      "C:\\Users\\cisso\\anaconda3\\lib\\site-packages\\seaborn\\_decorators.py:36: FutureWarning: Pass the following variable as a keyword arg: x. From version 0.12, the only valid positional argument will be `data`, and passing other arguments without an explicit keyword will result in an error or misinterpretation.\n",
      "  warnings.warn(\n"
     ]
    },
    {
     "data": {
      "image/png": "[encoded data removed]",
      "text/plain": [
       "<Figure size 1584x129.6 with 1 Axes>"
      ]
     },
     "metadata": {
      "needs_background": "light"
     },
     "output_type": "display_data"
    },
    {
     "data": {
      "image/png": "[encoded data removed]",
      "text/plain": [
       "<Figure size 1440x720 with 1 Axes>"
      ]
     },
     "metadata": {
      "needs_background": "light"
     },
     "output_type": "display_data"
    }
   ],
   "source": [
    "fig,ax = plt.subplots(figsize=(22,1.8))\n",
    "plt.subplot(2,1,1)\n",
    "sns.boxplot(df3['energy'], color = 'yellow')\n",
    "plt.ylabel('\\nenergy', fontsize=12)\n",
    "sns.despine(offset=10, trim=True)\n",
    "plt.title(\"Boxplot _ Affichage des valeurs\", fontsize=12,fontweight = 'bold')\n",
    "fig,ax = plt.subplots(figsize=(20,10))\n",
    "sns.boxplot(data = df3.loc[:,col], orient = 'h')\n",
    "sns.despine(offset=10, trim=True)\n",
    "ax.tick_params(axis='x', rotation=90)"
   ]
  },
  {
   "cell_type": "markdown",
   "metadata": {},
   "source": [
    "### 4. Méthode KnnClassifier"
   ]
  },
  {
   "cell_type": "code",
   "execution_count": 71,
   "metadata": {},
   "outputs": [
    {
     "data": {
      "text/plain": [
       "((36532, 19), (200077, 19))"
      ]
     },
     "execution_count": 71,
     "metadata": {},
     "output_type": "execute_result"
    }
   ],
   "source": [
    "df_knn_nan = df3[df3[\"nutrition_grade_fr\"].isnull()]\n",
    "df_knn = df3[~df3[\"nutrition_grade_fr\"].isnull()].copy()\n",
    "df_knn_nan.shape, df_knn.shape"
   ]
  },
  {
   "cell_type": "code",
   "execution_count": 72,
   "metadata": {},
   "outputs": [],
   "source": [
    "colonne = ['additives_n','palm_oil',\n",
    "'maybe_palm_oil','energy',\n",
    "'fat_100g','saturated-fat',\n",
    "'carbohydrates_100g','sugars',\n",
    "'fiber_100g','proteins_100g',\n",
    "'salt_100g','sodium']"
   ]
  },
  {
   "cell_type": "code",
   "execution_count": 73,
   "metadata": {},
   "outputs": [
    {
     "data": {
      "text/plain": [
       "array([0, 1, 2, 3, 4])"
      ]
     },
     "execution_count": 73,
     "metadata": {},
     "output_type": "execute_result"
    }
   ],
   "source": [
    "xnan = df_knn_nan[colonne].values\n",
    "\n",
    "laben = preprocessing.LabelEncoder()\n",
    "y = laben.fit_transform(df_knn[\"nutrition_grade_fr\"])\n",
    "x = df_knn[colonne].values\n",
    "np.unique(y)"
   ]
  },
  {
   "cell_type": "code",
   "execution_count": 74,
   "metadata": {},
   "outputs": [],
   "source": [
    "x_train, x_test, y_train, y_test = train_test_split(x, y, test_size=0.33)"
   ]
  },
  {
   "cell_type": "code",
   "execution_count": 75,
   "metadata": {},
   "outputs": [
    {
     "data": {
      "text/plain": [
       "KNeighborsClassifier(n_neighbors=3)"
      ]
     },
     "execution_count": 75,
     "metadata": {},
     "output_type": "execute_result"
    }
   ],
   "source": [
    "scorer = make_scorer(f1_score, greater_isçbetter = True, average = 'micro')\n",
    "scorer = make_scorer(accuracy_score)\n",
    "knn = KNeighborsClassifier(n_neighbors=3)\n",
    "knn.fit(x_train,y_train)"
   ]
  },
  {
   "cell_type": "code",
   "execution_count": 76,
   "metadata": {},
   "outputs": [
    {
     "data": {
      "text/plain": [
       "array([0, 1, 2, 3, 4])"
      ]
     },
     "execution_count": 76,
     "metadata": {},
     "output_type": "execute_result"
    }
   ],
   "source": [
    "y_pred = knn.predict(x_train)\n",
    "ynan = knn.predict(xnan)\n",
    "np.unique(ynan)"
   ]
  },
  {
   "cell_type": "code",
   "execution_count": 77,
   "metadata": {},
   "outputs": [
    {
     "name": "stderr",
     "output_type": "stream",
     "text": [
      "C:\\Users\\cisso\\anaconda3\\lib\\site-packages\\pandas\\core\\indexing.py:1773: SettingWithCopyWarning: \n",
      "A value is trying to be set on a copy of a slice from a DataFrame.\n",
      "Try using .loc[row_indexer,col_indexer] = value instead\n",
      "\n",
      "See the caveats in the documentation: https://pandas.pydata.org/pandas-docs/stable/user_guide/indexing.html#returning-a-view-versus-a-copy\n",
      "  self._setitem_single_column(ilocs[0], value, pi)\n"
     ]
    }
   ],
   "source": [
    "df_knn_nan.loc[:,\"nutrition_grade_fr\"] = laben.inverse_transform(ynan)"
   ]
  },
  {
   "cell_type": "code",
   "execution_count": 78,
   "metadata": {},
   "outputs": [],
   "source": [
    "df3.loc[:,\"nutrition_grade_fr\"] = pd.concat([df_knn_nan,df_knn])"
   ]
  },
  {
   "cell_type": "code",
   "execution_count": 79,
   "metadata": {},
   "outputs": [
    {
     "data": {
      "image/png": "[encoded data removed]",
      "text/plain": [
       "<Figure size 720x360 with 1 Axes>"
      ]
     },
     "metadata": {
      "needs_background": "light"
     },
     "output_type": "display_data"
    }
   ],
   "source": [
    "plt.rcParams[\"figure.figsize\"] = (10,5)\n",
    "graphRemplissage(df3)"
   ]
  },
  {
   "cell_type": "markdown",
   "metadata": {},
   "source": [
    "## 10. Vérifiation"
   ]
  },
  {
   "cell_type": "code",
   "execution_count": 80,
   "metadata": {},
   "outputs": [
    {
     "data": {
      "text/html": [
       "<div>\n",
       "<style scoped>\n",
       "    .dataframe tbody tr th:only-of-type {\n",
       "        vertical-align: middle;\n",
       "    }\n",
       "\n",
       "    .dataframe tbody tr th {\n",
       "        vertical-align: top;\n",
       "    }\n",
       "\n",
       "    .dataframe thead th {\n",
       "        text-align: right;\n",
       "    }\n",
       "</style>\n",
       "<table border=\"1\" class=\"dataframe\">\n",
       "  <thead>\n",
       "    <tr style=\"text-align: right;\">\n",
       "      <th></th>\n",
       "      <th>code</th>\n",
       "      <th>created_datetime</th>\n",
       "      <th>last_modified_datetime</th>\n",
       "      <th>product_name</th>\n",
       "      <th>countries</th>\n",
       "      <th>nutrition_grade_fr</th>\n",
       "      <th>additives_n</th>\n",
       "      <th>palm_oil</th>\n",
       "      <th>maybe_palm_oil</th>\n",
       "      <th>energy</th>\n",
       "      <th>fat_100g</th>\n",
       "      <th>saturated-fat</th>\n",
       "      <th>carbohydrates_100g</th>\n",
       "      <th>sugars</th>\n",
       "      <th>fiber_100g</th>\n",
       "      <th>proteins_100g</th>\n",
       "      <th>salt_100g</th>\n",
       "      <th>sodium</th>\n",
       "      <th>nutrition-score-fr</th>\n",
       "    </tr>\n",
       "  </thead>\n",
       "  <tbody>\n",
       "    <tr>\n",
       "      <th>4</th>\n",
       "      <td>0000000016094</td>\n",
       "      <td>2017-03-09 10:34:13+00:00</td>\n",
       "      <td>2017-03-09 10:34:13+00:00</td>\n",
       "      <td>Organic Polenta</td>\n",
       "      <td>US</td>\n",
       "      <td>d</td>\n",
       "      <td>0.0</td>\n",
       "      <td>0.0</td>\n",
       "      <td>0.0</td>\n",
       "      <td>1552.0</td>\n",
       "      <td>1.43</td>\n",
       "      <td>1.636841</td>\n",
       "      <td>77.14</td>\n",
       "      <td>39.282530</td>\n",
       "      <td>5.7</td>\n",
       "      <td>8.57</td>\n",
       "      <td>0.000000</td>\n",
       "      <td>0.000000</td>\n",
       "      <td>11.139847</td>\n",
       "    </tr>\n",
       "    <tr>\n",
       "      <th>9</th>\n",
       "      <td>0000000016513</td>\n",
       "      <td>2017-03-09 10:34:14+00:00</td>\n",
       "      <td>2017-03-09 10:34:14+00:00</td>\n",
       "      <td>Organic Sunflower Oil</td>\n",
       "      <td>US</td>\n",
       "      <td>d</td>\n",
       "      <td>0.0</td>\n",
       "      <td>0.0</td>\n",
       "      <td>0.0</td>\n",
       "      <td>3586.0</td>\n",
       "      <td>100.00</td>\n",
       "      <td>7.140000</td>\n",
       "      <td>0.00</td>\n",
       "      <td>-35.164359</td>\n",
       "      <td>0.0</td>\n",
       "      <td>0.00</td>\n",
       "      <td>0.000000</td>\n",
       "      <td>0.000000</td>\n",
       "      <td>19.088471</td>\n",
       "    </tr>\n",
       "    <tr>\n",
       "      <th>10</th>\n",
       "      <td>0000000016612</td>\n",
       "      <td>2017-03-09 10:35:31+00:00</td>\n",
       "      <td>2017-03-09 10:35:31+00:00</td>\n",
       "      <td>Organic Adzuki Beans</td>\n",
       "      <td>US</td>\n",
       "      <td>c</td>\n",
       "      <td>0.0</td>\n",
       "      <td>0.0</td>\n",
       "      <td>0.0</td>\n",
       "      <td>1393.0</td>\n",
       "      <td>1.04</td>\n",
       "      <td>1.438453</td>\n",
       "      <td>62.50</td>\n",
       "      <td>35.496594</td>\n",
       "      <td>12.5</td>\n",
       "      <td>22.92</td>\n",
       "      <td>0.010160</td>\n",
       "      <td>0.004000</td>\n",
       "      <td>10.064075</td>\n",
       "    </tr>\n",
       "    <tr>\n",
       "      <th>11</th>\n",
       "      <td>0000000016650</td>\n",
       "      <td>2017-03-09 10:34:28+00:00</td>\n",
       "      <td>2017-03-09 10:34:28+00:00</td>\n",
       "      <td>Organic Penne Pasta</td>\n",
       "      <td>US</td>\n",
       "      <td>d</td>\n",
       "      <td>0.0</td>\n",
       "      <td>0.0</td>\n",
       "      <td>0.0</td>\n",
       "      <td>1540.0</td>\n",
       "      <td>1.75</td>\n",
       "      <td>1.728930</td>\n",
       "      <td>73.68</td>\n",
       "      <td>38.614034</td>\n",
       "      <td>1.8</td>\n",
       "      <td>14.04</td>\n",
       "      <td>0.049107</td>\n",
       "      <td>0.019333</td>\n",
       "      <td>11.089328</td>\n",
       "    </tr>\n",
       "    <tr>\n",
       "      <th>12</th>\n",
       "      <td>0000000016872</td>\n",
       "      <td>2017-03-09 10:34:10+00:00</td>\n",
       "      <td>2017-03-09 10:34:11+00:00</td>\n",
       "      <td>Zen Party Mix</td>\n",
       "      <td>US</td>\n",
       "      <td>d</td>\n",
       "      <td>1.0</td>\n",
       "      <td>0.0</td>\n",
       "      <td>0.0</td>\n",
       "      <td>2230.0</td>\n",
       "      <td>36.67</td>\n",
       "      <td>5.000000</td>\n",
       "      <td>36.67</td>\n",
       "      <td>3.330000</td>\n",
       "      <td>6.7</td>\n",
       "      <td>16.67</td>\n",
       "      <td>1.607820</td>\n",
       "      <td>0.633000</td>\n",
       "      <td>12.000000</td>\n",
       "    </tr>\n",
       "  </tbody>\n",
       "</table>\n",
       "</div>"
      ],
      "text/plain": [
       "             code          created_datetime    last_modified_datetime  \\\n",
       "4   0000000016094 2017-03-09 10:34:13+00:00 2017-03-09 10:34:13+00:00   \n",
       "9   0000000016513 2017-03-09 10:34:14+00:00 2017-03-09 10:34:14+00:00   \n",
       "10  0000000016612 2017-03-09 10:35:31+00:00 2017-03-09 10:35:31+00:00   \n",
       "11  0000000016650 2017-03-09 10:34:28+00:00 2017-03-09 10:34:28+00:00   \n",
       "12  0000000016872 2017-03-09 10:34:10+00:00 2017-03-09 10:34:11+00:00   \n",
       "\n",
       "             product_name countries nutrition_grade_fr  additives_n  palm_oil  \\\n",
       "4         Organic Polenta        US                  d          0.0       0.0   \n",
       "9   Organic Sunflower Oil        US                  d          0.0       0.0   \n",
       "10   Organic Adzuki Beans        US                  c          0.0       0.0   \n",
       "11    Organic Penne Pasta        US                  d          0.0       0.0   \n",
       "12          Zen Party Mix        US                  d          1.0       0.0   \n",
       "\n",
       "    maybe_palm_oil  energy  fat_100g  saturated-fat  carbohydrates_100g  \\\n",
       "4              0.0  1552.0      1.43       1.636841               77.14   \n",
       "9              0.0  3586.0    100.00       7.140000                0.00   \n",
       "10             0.0  1393.0      1.04       1.438453               62.50   \n",
       "11             0.0  1540.0      1.75       1.728930               73.68   \n",
       "12             0.0  2230.0     36.67       5.000000               36.67   \n",
       "\n",
       "       sugars  fiber_100g  proteins_100g  salt_100g    sodium  \\\n",
       "4   39.282530         5.7           8.57   0.000000  0.000000   \n",
       "9  -35.164359         0.0           0.00   0.000000  0.000000   \n",
       "10  35.496594        12.5          22.92   0.010160  0.004000   \n",
       "11  38.614034         1.8          14.04   0.049107  0.019333   \n",
       "12   3.330000         6.7          16.67   1.607820  0.633000   \n",
       "\n",
       "    nutrition-score-fr  \n",
       "4            11.139847  \n",
       "9            19.088471  \n",
       "10           10.064075  \n",
       "11           11.089328  \n",
       "12           12.000000  "
      ]
     },
     "execution_count": 80,
     "metadata": {},
     "output_type": "execute_result"
    }
   ],
   "source": [
    "cal = somme(df3)<=100\n",
    "number = np.where(cal)\n",
    "df3 = df3.iloc[number]\n",
    "df3.head()"
   ]
  },
  {
   "cell_type": "code",
   "execution_count": 81,
   "metadata": {},
   "outputs": [
    {
     "data": {
      "text/plain": [
       "(235805, 19)"
      ]
     },
     "execution_count": 81,
     "metadata": {},
     "output_type": "execute_result"
    }
   ],
   "source": [
    "df3.shape"
   ]
  },
  {
   "cell_type": "code",
   "execution_count": 82,
   "metadata": {},
   "outputs": [],
   "source": [
    "df3 = df3[df3['fat_100g'] <= 100]\n",
    "df3 = df3[df3['fat_100g'] >= 0]"
   ]
  },
  {
   "cell_type": "code",
   "execution_count": 83,
   "metadata": {},
   "outputs": [],
   "source": [
    "df3 = df3[df3['saturated-fat'] <= 100]\n",
    "df3 = df3[df3['saturated-fat'] >= 0]"
   ]
  },
  {
   "cell_type": "code",
   "execution_count": 84,
   "metadata": {},
   "outputs": [],
   "source": [
    "df3 = df3[df3['carbohydrates_100g'] <= 100]\n",
    "df3 = df3[df3['carbohydrates_100g'] >= 0]"
   ]
  },
  {
   "cell_type": "code",
   "execution_count": 85,
   "metadata": {},
   "outputs": [],
   "source": [
    "df3 = df3[df3['sugars'] <= 100]\n",
    "df3 = df3[df3['sugars'] >= 0]"
   ]
  },
  {
   "cell_type": "code",
   "execution_count": 86,
   "metadata": {},
   "outputs": [],
   "source": [
    "df3 = df3[df3['nutrition-score-fr'] <= 40]\n",
    "df3 = df3[df3['nutrition-score-fr'] >= -15]"
   ]
  },
  {
   "cell_type": "code",
   "execution_count": 87,
   "metadata": {},
   "outputs": [],
   "source": [
    "df3 = df3[df3['energy']<=3700]"
   ]
  },
  {
   "cell_type": "code",
   "execution_count": 88,
   "metadata": {},
   "outputs": [],
   "source": [
    "df3 = df3[df3['fat_100g'] >= df3['saturated-fat']]\n",
    "df3 = df3[df3['carbohydrates_100g'] >= df3['sugars']]\n",
    "df3 = df3[df3['salt_100g'] >= df3['sodium']]"
   ]
  },
  {
   "cell_type": "code",
   "execution_count": 89,
   "metadata": {},
   "outputs": [
    {
     "name": "stderr",
     "output_type": "stream",
     "text": [
      "C:\\Users\\cisso\\anaconda3\\lib\\site-packages\\seaborn\\_decorators.py:36: FutureWarning: Pass the following variable as a keyword arg: x. From version 0.12, the only valid positional argument will be `data`, and passing other arguments without an explicit keyword will result in an error or misinterpretation.\n",
      "  warnings.warn(\n"
     ]
    },
    {
     "data": {
      "image/png": "[encoded data removed]",
      "text/plain": [
       "<Figure size 1584x129.6 with 1 Axes>"
      ]
     },
     "metadata": {
      "needs_background": "light"
     },
     "output_type": "display_data"
    },
    {
     "data": {
      "image/png": "[encoded data removed]",
      "text/plain": [
       "<Figure size 1440x720 with 1 Axes>"
      ]
     },
     "metadata": {
      "needs_background": "light"
     },
     "output_type": "display_data"
    }
   ],
   "source": [
    "fig,ax = plt.subplots(figsize=(22,1.8))\n",
    "plt.subplot(2,1,1)\n",
    "sns.boxplot(df3['energy'], color = 'yellow')\n",
    "plt.ylabel('\\nenergy', fontsize=12)\n",
    "sns.despine(offset=10, trim=True)\n",
    "plt.title(\"Boxplot _ Affichage des valeurs\", fontsize=12,fontweight = 'bold')\n",
    "fig,ax = plt.subplots(figsize=(20,10))\n",
    "sns.boxplot(data = df3.loc[:,col],orient = \"h\")\n",
    "sns.despine(offset=10, trim=True)\n",
    "ax.tick_params(axis='x', rotation=90)"
   ]
  },
  {
   "cell_type": "code",
   "execution_count": 90,
   "metadata": {},
   "outputs": [
    {
     "data": {
      "image/png": "[encoded data removed]",
      "text/plain": [
       "<Figure size 720x360 with 1 Axes>"
      ]
     },
     "metadata": {
      "needs_background": "light"
     },
     "output_type": "display_data"
    }
   ],
   "source": [
    "plt.rcParams[\"figure.figsize\"] = (10,5)\n",
    "graphRemplissage(df3)"
   ]
  },
  {
   "cell_type": "code",
   "execution_count": 91,
   "metadata": {},
   "outputs": [
    {
     "data": {
      "text/html": [
       "<div>\n",
       "<style scoped>\n",
       "    .dataframe tbody tr th:only-of-type {\n",
       "        vertical-align: middle;\n",
       "    }\n",
       "\n",
       "    .dataframe tbody tr th {\n",
       "        vertical-align: top;\n",
       "    }\n",
       "\n",
       "    .dataframe thead th {\n",
       "        text-align: right;\n",
       "    }\n",
       "</style>\n",
       "<table border=\"1\" class=\"dataframe\">\n",
       "  <thead>\n",
       "    <tr style=\"text-align: right;\">\n",
       "      <th></th>\n",
       "      <th>code</th>\n",
       "      <th>created_datetime</th>\n",
       "      <th>last_modified_datetime</th>\n",
       "      <th>product_name</th>\n",
       "      <th>countries</th>\n",
       "      <th>nutrition_grade_fr</th>\n",
       "      <th>additives_n</th>\n",
       "      <th>palm_oil</th>\n",
       "      <th>maybe_palm_oil</th>\n",
       "      <th>energy</th>\n",
       "      <th>fat_100g</th>\n",
       "      <th>saturated-fat</th>\n",
       "      <th>carbohydrates_100g</th>\n",
       "      <th>sugars</th>\n",
       "      <th>fiber_100g</th>\n",
       "      <th>proteins_100g</th>\n",
       "      <th>salt_100g</th>\n",
       "      <th>sodium</th>\n",
       "      <th>nutrition-score-fr</th>\n",
       "    </tr>\n",
       "  </thead>\n",
       "  <tbody>\n",
       "    <tr>\n",
       "      <th>11</th>\n",
       "      <td>0000000016650</td>\n",
       "      <td>2017-03-09 10:34:28+00:00</td>\n",
       "      <td>2017-03-09 10:34:28+00:00</td>\n",
       "      <td>Organic Penne Pasta</td>\n",
       "      <td>US</td>\n",
       "      <td>d</td>\n",
       "      <td>0.0</td>\n",
       "      <td>0.0</td>\n",
       "      <td>0.0</td>\n",
       "      <td>1540.0</td>\n",
       "      <td>1.75</td>\n",
       "      <td>1.72893</td>\n",
       "      <td>73.68</td>\n",
       "      <td>38.614034</td>\n",
       "      <td>1.8</td>\n",
       "      <td>14.04</td>\n",
       "      <td>0.049107</td>\n",
       "      <td>0.019333</td>\n",
       "      <td>11.089328</td>\n",
       "    </tr>\n",
       "    <tr>\n",
       "      <th>12</th>\n",
       "      <td>0000000016872</td>\n",
       "      <td>2017-03-09 10:34:10+00:00</td>\n",
       "      <td>2017-03-09 10:34:11+00:00</td>\n",
       "      <td>Zen Party Mix</td>\n",
       "      <td>US</td>\n",
       "      <td>d</td>\n",
       "      <td>1.0</td>\n",
       "      <td>0.0</td>\n",
       "      <td>0.0</td>\n",
       "      <td>2230.0</td>\n",
       "      <td>36.67</td>\n",
       "      <td>5.00000</td>\n",
       "      <td>36.67</td>\n",
       "      <td>3.330000</td>\n",
       "      <td>6.7</td>\n",
       "      <td>16.67</td>\n",
       "      <td>1.607820</td>\n",
       "      <td>0.633000</td>\n",
       "      <td>12.000000</td>\n",
       "    </tr>\n",
       "    <tr>\n",
       "      <th>17</th>\n",
       "      <td>0000000018173</td>\n",
       "      <td>2017-03-09 10:34:27+00:00</td>\n",
       "      <td>2017-03-09 10:34:27+00:00</td>\n",
       "      <td>Organic Sweetened Banana Chips</td>\n",
       "      <td>US</td>\n",
       "      <td>d</td>\n",
       "      <td>0.0</td>\n",
       "      <td>0.0</td>\n",
       "      <td>0.0</td>\n",
       "      <td>2092.0</td>\n",
       "      <td>26.67</td>\n",
       "      <td>23.33000</td>\n",
       "      <td>66.67</td>\n",
       "      <td>16.670000</td>\n",
       "      <td>3.3</td>\n",
       "      <td>3.33</td>\n",
       "      <td>0.000000</td>\n",
       "      <td>0.000000</td>\n",
       "      <td>20.608340</td>\n",
       "    </tr>\n",
       "    <tr>\n",
       "      <th>19</th>\n",
       "      <td>0000000018227</td>\n",
       "      <td>2017-03-09 10:34:42+00:00</td>\n",
       "      <td>2017-03-09 10:34:42+00:00</td>\n",
       "      <td>Organic Oat Groats</td>\n",
       "      <td>US</td>\n",
       "      <td>a</td>\n",
       "      <td>0.0</td>\n",
       "      <td>0.0</td>\n",
       "      <td>0.0</td>\n",
       "      <td>1096.0</td>\n",
       "      <td>5.95</td>\n",
       "      <td>1.19000</td>\n",
       "      <td>66.67</td>\n",
       "      <td>2.380000</td>\n",
       "      <td>9.5</td>\n",
       "      <td>16.67</td>\n",
       "      <td>0.025400</td>\n",
       "      <td>0.010000</td>\n",
       "      <td>-6.000000</td>\n",
       "    </tr>\n",
       "    <tr>\n",
       "      <th>20</th>\n",
       "      <td>0000000018265</td>\n",
       "      <td>2017-03-09 10:35:06+00:00</td>\n",
       "      <td>2017-03-09 10:35:06+00:00</td>\n",
       "      <td>Energy Power Mix</td>\n",
       "      <td>US</td>\n",
       "      <td>d</td>\n",
       "      <td>0.0</td>\n",
       "      <td>0.0</td>\n",
       "      <td>0.0</td>\n",
       "      <td>1464.0</td>\n",
       "      <td>17.50</td>\n",
       "      <td>7.50000</td>\n",
       "      <td>42.50</td>\n",
       "      <td>32.500000</td>\n",
       "      <td>5.0</td>\n",
       "      <td>7.50</td>\n",
       "      <td>0.284480</td>\n",
       "      <td>0.112000</td>\n",
       "      <td>14.000000</td>\n",
       "    </tr>\n",
       "  </tbody>\n",
       "</table>\n",
       "</div>"
      ],
      "text/plain": [
       "             code          created_datetime    last_modified_datetime  \\\n",
       "11  0000000016650 2017-03-09 10:34:28+00:00 2017-03-09 10:34:28+00:00   \n",
       "12  0000000016872 2017-03-09 10:34:10+00:00 2017-03-09 10:34:11+00:00   \n",
       "17  0000000018173 2017-03-09 10:34:27+00:00 2017-03-09 10:34:27+00:00   \n",
       "19  0000000018227 2017-03-09 10:34:42+00:00 2017-03-09 10:34:42+00:00   \n",
       "20  0000000018265 2017-03-09 10:35:06+00:00 2017-03-09 10:35:06+00:00   \n",
       "\n",
       "                      product_name countries nutrition_grade_fr  additives_n  \\\n",
       "11             Organic Penne Pasta        US                  d          0.0   \n",
       "12                   Zen Party Mix        US                  d          1.0   \n",
       "17  Organic Sweetened Banana Chips        US                  d          0.0   \n",
       "19              Organic Oat Groats        US                  a          0.0   \n",
       "20                Energy Power Mix        US                  d          0.0   \n",
       "\n",
       "    palm_oil  maybe_palm_oil  energy  fat_100g  saturated-fat  \\\n",
       "11       0.0             0.0  1540.0      1.75        1.72893   \n",
       "12       0.0             0.0  2230.0     36.67        5.00000   \n",
       "17       0.0             0.0  2092.0     26.67       23.33000   \n",
       "19       0.0             0.0  1096.0      5.95        1.19000   \n",
       "20       0.0             0.0  1464.0     17.50        7.50000   \n",
       "\n",
       "    carbohydrates_100g     sugars  fiber_100g  proteins_100g  salt_100g  \\\n",
       "11               73.68  38.614034         1.8          14.04   0.049107   \n",
       "12               36.67   3.330000         6.7          16.67   1.607820   \n",
       "17               66.67  16.670000         3.3           3.33   0.000000   \n",
       "19               66.67   2.380000         9.5          16.67   0.025400   \n",
       "20               42.50  32.500000         5.0           7.50   0.284480   \n",
       "\n",
       "      sodium  nutrition-score-fr  \n",
       "11  0.019333           11.089328  \n",
       "12  0.633000           12.000000  \n",
       "17  0.000000           20.608340  \n",
       "19  0.010000           -6.000000  \n",
       "20  0.112000           14.000000  "
      ]
     },
     "execution_count": 91,
     "metadata": {},
     "output_type": "execute_result"
    }
   ],
   "source": [
    "df3.head()"
   ]
  },
  {
   "cell_type": "code",
   "execution_count": 92,
   "metadata": {},
   "outputs": [
    {
     "data": {
      "text/plain": [
       "code                                   string\n",
       "created_datetime          datetime64[ns, UTC]\n",
       "last_modified_datetime    datetime64[ns, UTC]\n",
       "product_name                           string\n",
       "countries                              string\n",
       "nutrition_grade_fr                     string\n",
       "additives_n                           float64\n",
       "palm_oil                              float64\n",
       "maybe_palm_oil                        float64\n",
       "energy                                float64\n",
       "fat_100g                              float64\n",
       "saturated-fat                         float64\n",
       "carbohydrates_100g                    float64\n",
       "sugars                                float64\n",
       "fiber_100g                            float64\n",
       "proteins_100g                         float64\n",
       "salt_100g                             float64\n",
       "sodium                                float64\n",
       "nutrition-score-fr                    float64\n",
       "dtype: object"
      ]
     },
     "execution_count": 92,
     "metadata": {},
     "output_type": "execute_result"
    }
   ],
   "source": [
    "df3 = conversion(df3)\n",
    "df3.dtypes"
   ]
  },
  {
   "cell_type": "markdown",
   "metadata": {},
   "source": [
    "## 11. Enregistrement de fichier csv"
   ]
  },
  {
   "cell_type": "code",
   "execution_count": 93,
   "metadata": {},
   "outputs": [],
   "source": [
    "df3.to_csv('notebookexploration.csv', index=False, date_format =\"%Y-%m-%dT%H:%M:%S.%f\")"
   ]
  },
  {
   "cell_type": "code",
   "execution_count": null,
   "metadata": {},
   "outputs": [],
   "source": []
  }
 ],
 "metadata": {
  "kernelspec": {
   "display_name": "Python 3 (ipykernel)",
   "language": "python",
   "name": "python3"
  },
  "language_info": {
   "codemirror_mode": {
    "name": "ipython",
    "version": 3
   },
   "file_extension": ".py",
   "mimetype": "text/x-python",
   "name": "python",
   "nbconvert_exporter": "python",
   "pygments_lexer": "ipython3",
   "version": "3.9.7"
  }
 },
 "nbformat": 4,
 "nbformat_minor": 4
}
